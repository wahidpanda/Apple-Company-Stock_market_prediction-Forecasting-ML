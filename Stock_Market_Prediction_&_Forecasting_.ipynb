{
  "cells": [
    {
      "cell_type": "markdown",
      "metadata": {
        "id": "-YpSYUjPYnZM"
      },
      "source": [
        "### Stock Market Prediction And Forecasting Using Stacked LSTM"
      ]
    },
    {
      "cell_type": "code",
      "execution_count": 1,
      "metadata": {
        "id": "nLtKgQXIYnZR"
      },
      "outputs": [],
      "source": [
        "### Keras and Tensorflow >2.0"
      ]
    },
    {
      "cell_type": "code",
      "execution_count": 2,
      "metadata": {
        "id": "sgM1EGPIYnZS"
      },
      "outputs": [],
      "source": [
        "### Data Collection\n",
        "import pandas_datareader as pdr\n",
        "key=\"\""
      ]
    },
    {
      "cell_type": "code",
      "execution_count": 3,
      "metadata": {
        "colab": {
          "base_uri": "https://localhost:8080/"
        },
        "id": "CFLLhuPoYnZS",
        "outputId": "7bfb5a6f-02ca-4292-b885-0264a233b1af"
      },
      "outputs": [
        {
          "output_type": "stream",
          "name": "stderr",
          "text": [
            "<ipython-input-3-08157bf6935e>:1: FutureWarning: In a future version of pandas all arguments of concat except for the argument 'objs' will be keyword-only.\n",
            "  df = pdr.get_data_tiingo('AAPL', api_key=key)\n"
          ]
        }
      ],
      "source": [
        "df = pdr.get_data_tiingo('AAPL', api_key=key)"
      ]
    },
    {
      "cell_type": "code",
      "execution_count": 4,
      "metadata": {
        "id": "OxGEbL0zYnZS"
      },
      "outputs": [],
      "source": [
        "df.to_csv('AAPL.csv')"
      ]
    },
    {
      "cell_type": "code",
      "execution_count": 5,
      "metadata": {
        "id": "7Hi2vbvVYnZT"
      },
      "outputs": [],
      "source": [
        "import pandas as pd"
      ]
    },
    {
      "cell_type": "code",
      "execution_count": 6,
      "metadata": {
        "id": "C6ELDTUvYnZT"
      },
      "outputs": [],
      "source": [
        "df=pd.read_csv('AAPL.csv')"
      ]
    },
    {
      "cell_type": "code",
      "execution_count": 7,
      "metadata": {
        "colab": {
          "base_uri": "https://localhost:8080/",
          "height": 206
        },
        "id": "XMwXZGpGYnZT",
        "outputId": "aa84be46-54f7-492d-dd0d-98546b4de609"
      },
      "outputs": [
        {
          "output_type": "execute_result",
          "data": {
            "text/plain": [
              "  symbol                       date   close    high     low    open    volume  \\\n",
              "0   AAPL  2018-12-27 00:00:00+00:00  156.15  156.77  150.07  155.84  53117065   \n",
              "1   AAPL  2018-12-28 00:00:00+00:00  156.23  158.52  154.55  157.50  42291424   \n",
              "2   AAPL  2018-12-31 00:00:00+00:00  157.74  159.36  156.48  158.53  35003466   \n",
              "3   AAPL  2019-01-02 00:00:00+00:00  157.92  158.85  154.23  154.89  37039737   \n",
              "4   AAPL  2019-01-03 00:00:00+00:00  142.19  145.72  142.00  143.98  91312195   \n",
              "\n",
              "    adjClose    adjHigh     adjLow    adjOpen  adjVolume  divCash  splitFactor  \n",
              "0  37.467441  37.616207  36.008574  37.393058  212468260      0.0          1.0  \n",
              "1  37.486636  38.036111  37.083528  37.791367  169165696      0.0          1.0  \n",
              "2  37.848954  38.237665  37.546623  38.038510  140013864      0.0          1.0  \n",
              "3  37.892144  38.115293  37.006746  37.165110  148158948      0.0          1.0  \n",
              "4  34.117806  34.964812  34.072216  34.547308  365248780      0.0          1.0  "
            ],
            "text/html": [
              "\n",
              "  <div id=\"df-00c65f92-9438-4bac-b785-b1a009f77c6f\" class=\"colab-df-container\">\n",
              "    <div>\n",
              "<style scoped>\n",
              "    .dataframe tbody tr th:only-of-type {\n",
              "        vertical-align: middle;\n",
              "    }\n",
              "\n",
              "    .dataframe tbody tr th {\n",
              "        vertical-align: top;\n",
              "    }\n",
              "\n",
              "    .dataframe thead th {\n",
              "        text-align: right;\n",
              "    }\n",
              "</style>\n",
              "<table border=\"1\" class=\"dataframe\">\n",
              "  <thead>\n",
              "    <tr style=\"text-align: right;\">\n",
              "      <th></th>\n",
              "      <th>symbol</th>\n",
              "      <th>date</th>\n",
              "      <th>close</th>\n",
              "      <th>high</th>\n",
              "      <th>low</th>\n",
              "      <th>open</th>\n",
              "      <th>volume</th>\n",
              "      <th>adjClose</th>\n",
              "      <th>adjHigh</th>\n",
              "      <th>adjLow</th>\n",
              "      <th>adjOpen</th>\n",
              "      <th>adjVolume</th>\n",
              "      <th>divCash</th>\n",
              "      <th>splitFactor</th>\n",
              "    </tr>\n",
              "  </thead>\n",
              "  <tbody>\n",
              "    <tr>\n",
              "      <th>0</th>\n",
              "      <td>AAPL</td>\n",
              "      <td>2018-12-27 00:00:00+00:00</td>\n",
              "      <td>156.15</td>\n",
              "      <td>156.77</td>\n",
              "      <td>150.07</td>\n",
              "      <td>155.84</td>\n",
              "      <td>53117065</td>\n",
              "      <td>37.467441</td>\n",
              "      <td>37.616207</td>\n",
              "      <td>36.008574</td>\n",
              "      <td>37.393058</td>\n",
              "      <td>212468260</td>\n",
              "      <td>0.0</td>\n",
              "      <td>1.0</td>\n",
              "    </tr>\n",
              "    <tr>\n",
              "      <th>1</th>\n",
              "      <td>AAPL</td>\n",
              "      <td>2018-12-28 00:00:00+00:00</td>\n",
              "      <td>156.23</td>\n",
              "      <td>158.52</td>\n",
              "      <td>154.55</td>\n",
              "      <td>157.50</td>\n",
              "      <td>42291424</td>\n",
              "      <td>37.486636</td>\n",
              "      <td>38.036111</td>\n",
              "      <td>37.083528</td>\n",
              "      <td>37.791367</td>\n",
              "      <td>169165696</td>\n",
              "      <td>0.0</td>\n",
              "      <td>1.0</td>\n",
              "    </tr>\n",
              "    <tr>\n",
              "      <th>2</th>\n",
              "      <td>AAPL</td>\n",
              "      <td>2018-12-31 00:00:00+00:00</td>\n",
              "      <td>157.74</td>\n",
              "      <td>159.36</td>\n",
              "      <td>156.48</td>\n",
              "      <td>158.53</td>\n",
              "      <td>35003466</td>\n",
              "      <td>37.848954</td>\n",
              "      <td>38.237665</td>\n",
              "      <td>37.546623</td>\n",
              "      <td>38.038510</td>\n",
              "      <td>140013864</td>\n",
              "      <td>0.0</td>\n",
              "      <td>1.0</td>\n",
              "    </tr>\n",
              "    <tr>\n",
              "      <th>3</th>\n",
              "      <td>AAPL</td>\n",
              "      <td>2019-01-02 00:00:00+00:00</td>\n",
              "      <td>157.92</td>\n",
              "      <td>158.85</td>\n",
              "      <td>154.23</td>\n",
              "      <td>154.89</td>\n",
              "      <td>37039737</td>\n",
              "      <td>37.892144</td>\n",
              "      <td>38.115293</td>\n",
              "      <td>37.006746</td>\n",
              "      <td>37.165110</td>\n",
              "      <td>148158948</td>\n",
              "      <td>0.0</td>\n",
              "      <td>1.0</td>\n",
              "    </tr>\n",
              "    <tr>\n",
              "      <th>4</th>\n",
              "      <td>AAPL</td>\n",
              "      <td>2019-01-03 00:00:00+00:00</td>\n",
              "      <td>142.19</td>\n",
              "      <td>145.72</td>\n",
              "      <td>142.00</td>\n",
              "      <td>143.98</td>\n",
              "      <td>91312195</td>\n",
              "      <td>34.117806</td>\n",
              "      <td>34.964812</td>\n",
              "      <td>34.072216</td>\n",
              "      <td>34.547308</td>\n",
              "      <td>365248780</td>\n",
              "      <td>0.0</td>\n",
              "      <td>1.0</td>\n",
              "    </tr>\n",
              "  </tbody>\n",
              "</table>\n",
              "</div>\n",
              "    <div class=\"colab-df-buttons\">\n",
              "\n",
              "  <div class=\"colab-df-container\">\n",
              "    <button class=\"colab-df-convert\" onclick=\"convertToInteractive('df-00c65f92-9438-4bac-b785-b1a009f77c6f')\"\n",
              "            title=\"Convert this dataframe to an interactive table.\"\n",
              "            style=\"display:none;\">\n",
              "\n",
              "  <svg xmlns=\"http://www.w3.org/2000/svg\" height=\"24px\" viewBox=\"0 -960 960 960\">\n",
              "    <path d=\"M120-120v-720h720v720H120Zm60-500h600v-160H180v160Zm220 220h160v-160H400v160Zm0 220h160v-160H400v160ZM180-400h160v-160H180v160Zm440 0h160v-160H620v160ZM180-180h160v-160H180v160Zm440 0h160v-160H620v160Z\"/>\n",
              "  </svg>\n",
              "    </button>\n",
              "\n",
              "  <style>\n",
              "    .colab-df-container {\n",
              "      display:flex;\n",
              "      gap: 12px;\n",
              "    }\n",
              "\n",
              "    .colab-df-convert {\n",
              "      background-color: #E8F0FE;\n",
              "      border: none;\n",
              "      border-radius: 50%;\n",
              "      cursor: pointer;\n",
              "      display: none;\n",
              "      fill: #1967D2;\n",
              "      height: 32px;\n",
              "      padding: 0 0 0 0;\n",
              "      width: 32px;\n",
              "    }\n",
              "\n",
              "    .colab-df-convert:hover {\n",
              "      background-color: #E2EBFA;\n",
              "      box-shadow: 0px 1px 2px rgba(60, 64, 67, 0.3), 0px 1px 3px 1px rgba(60, 64, 67, 0.15);\n",
              "      fill: #174EA6;\n",
              "    }\n",
              "\n",
              "    .colab-df-buttons div {\n",
              "      margin-bottom: 4px;\n",
              "    }\n",
              "\n",
              "    [theme=dark] .colab-df-convert {\n",
              "      background-color: #3B4455;\n",
              "      fill: #D2E3FC;\n",
              "    }\n",
              "\n",
              "    [theme=dark] .colab-df-convert:hover {\n",
              "      background-color: #434B5C;\n",
              "      box-shadow: 0px 1px 3px 1px rgba(0, 0, 0, 0.15);\n",
              "      filter: drop-shadow(0px 1px 2px rgba(0, 0, 0, 0.3));\n",
              "      fill: #FFFFFF;\n",
              "    }\n",
              "  </style>\n",
              "\n",
              "    <script>\n",
              "      const buttonEl =\n",
              "        document.querySelector('#df-00c65f92-9438-4bac-b785-b1a009f77c6f button.colab-df-convert');\n",
              "      buttonEl.style.display =\n",
              "        google.colab.kernel.accessAllowed ? 'block' : 'none';\n",
              "\n",
              "      async function convertToInteractive(key) {\n",
              "        const element = document.querySelector('#df-00c65f92-9438-4bac-b785-b1a009f77c6f');\n",
              "        const dataTable =\n",
              "          await google.colab.kernel.invokeFunction('convertToInteractive',\n",
              "                                                    [key], {});\n",
              "        if (!dataTable) return;\n",
              "\n",
              "        const docLinkHtml = 'Like what you see? Visit the ' +\n",
              "          '<a target=\"_blank\" href=https://colab.research.google.com/notebooks/data_table.ipynb>data table notebook</a>'\n",
              "          + ' to learn more about interactive tables.';\n",
              "        element.innerHTML = '';\n",
              "        dataTable['output_type'] = 'display_data';\n",
              "        await google.colab.output.renderOutput(dataTable, element);\n",
              "        const docLink = document.createElement('div');\n",
              "        docLink.innerHTML = docLinkHtml;\n",
              "        element.appendChild(docLink);\n",
              "      }\n",
              "    </script>\n",
              "  </div>\n",
              "\n",
              "\n",
              "<div id=\"df-e89a3d07-65a5-4543-be81-622dccd08aac\">\n",
              "  <button class=\"colab-df-quickchart\" onclick=\"quickchart('df-e89a3d07-65a5-4543-be81-622dccd08aac')\"\n",
              "            title=\"Suggest charts\"\n",
              "            style=\"display:none;\">\n",
              "\n",
              "<svg xmlns=\"http://www.w3.org/2000/svg\" height=\"24px\"viewBox=\"0 0 24 24\"\n",
              "     width=\"24px\">\n",
              "    <g>\n",
              "        <path d=\"M19 3H5c-1.1 0-2 .9-2 2v14c0 1.1.9 2 2 2h14c1.1 0 2-.9 2-2V5c0-1.1-.9-2-2-2zM9 17H7v-7h2v7zm4 0h-2V7h2v10zm4 0h-2v-4h2v4z\"/>\n",
              "    </g>\n",
              "</svg>\n",
              "  </button>\n",
              "\n",
              "<style>\n",
              "  .colab-df-quickchart {\n",
              "      --bg-color: #E8F0FE;\n",
              "      --fill-color: #1967D2;\n",
              "      --hover-bg-color: #E2EBFA;\n",
              "      --hover-fill-color: #174EA6;\n",
              "      --disabled-fill-color: #AAA;\n",
              "      --disabled-bg-color: #DDD;\n",
              "  }\n",
              "\n",
              "  [theme=dark] .colab-df-quickchart {\n",
              "      --bg-color: #3B4455;\n",
              "      --fill-color: #D2E3FC;\n",
              "      --hover-bg-color: #434B5C;\n",
              "      --hover-fill-color: #FFFFFF;\n",
              "      --disabled-bg-color: #3B4455;\n",
              "      --disabled-fill-color: #666;\n",
              "  }\n",
              "\n",
              "  .colab-df-quickchart {\n",
              "    background-color: var(--bg-color);\n",
              "    border: none;\n",
              "    border-radius: 50%;\n",
              "    cursor: pointer;\n",
              "    display: none;\n",
              "    fill: var(--fill-color);\n",
              "    height: 32px;\n",
              "    padding: 0;\n",
              "    width: 32px;\n",
              "  }\n",
              "\n",
              "  .colab-df-quickchart:hover {\n",
              "    background-color: var(--hover-bg-color);\n",
              "    box-shadow: 0 1px 2px rgba(60, 64, 67, 0.3), 0 1px 3px 1px rgba(60, 64, 67, 0.15);\n",
              "    fill: var(--button-hover-fill-color);\n",
              "  }\n",
              "\n",
              "  .colab-df-quickchart-complete:disabled,\n",
              "  .colab-df-quickchart-complete:disabled:hover {\n",
              "    background-color: var(--disabled-bg-color);\n",
              "    fill: var(--disabled-fill-color);\n",
              "    box-shadow: none;\n",
              "  }\n",
              "\n",
              "  .colab-df-spinner {\n",
              "    border: 2px solid var(--fill-color);\n",
              "    border-color: transparent;\n",
              "    border-bottom-color: var(--fill-color);\n",
              "    animation:\n",
              "      spin 1s steps(1) infinite;\n",
              "  }\n",
              "\n",
              "  @keyframes spin {\n",
              "    0% {\n",
              "      border-color: transparent;\n",
              "      border-bottom-color: var(--fill-color);\n",
              "      border-left-color: var(--fill-color);\n",
              "    }\n",
              "    20% {\n",
              "      border-color: transparent;\n",
              "      border-left-color: var(--fill-color);\n",
              "      border-top-color: var(--fill-color);\n",
              "    }\n",
              "    30% {\n",
              "      border-color: transparent;\n",
              "      border-left-color: var(--fill-color);\n",
              "      border-top-color: var(--fill-color);\n",
              "      border-right-color: var(--fill-color);\n",
              "    }\n",
              "    40% {\n",
              "      border-color: transparent;\n",
              "      border-right-color: var(--fill-color);\n",
              "      border-top-color: var(--fill-color);\n",
              "    }\n",
              "    60% {\n",
              "      border-color: transparent;\n",
              "      border-right-color: var(--fill-color);\n",
              "    }\n",
              "    80% {\n",
              "      border-color: transparent;\n",
              "      border-right-color: var(--fill-color);\n",
              "      border-bottom-color: var(--fill-color);\n",
              "    }\n",
              "    90% {\n",
              "      border-color: transparent;\n",
              "      border-bottom-color: var(--fill-color);\n",
              "    }\n",
              "  }\n",
              "</style>\n",
              "\n",
              "  <script>\n",
              "    async function quickchart(key) {\n",
              "      const quickchartButtonEl =\n",
              "        document.querySelector('#' + key + ' button');\n",
              "      quickchartButtonEl.disabled = true;  // To prevent multiple clicks.\n",
              "      quickchartButtonEl.classList.add('colab-df-spinner');\n",
              "      try {\n",
              "        const charts = await google.colab.kernel.invokeFunction(\n",
              "            'suggestCharts', [key], {});\n",
              "      } catch (error) {\n",
              "        console.error('Error during call to suggestCharts:', error);\n",
              "      }\n",
              "      quickchartButtonEl.classList.remove('colab-df-spinner');\n",
              "      quickchartButtonEl.classList.add('colab-df-quickchart-complete');\n",
              "    }\n",
              "    (() => {\n",
              "      let quickchartButtonEl =\n",
              "        document.querySelector('#df-e89a3d07-65a5-4543-be81-622dccd08aac button');\n",
              "      quickchartButtonEl.style.display =\n",
              "        google.colab.kernel.accessAllowed ? 'block' : 'none';\n",
              "    })();\n",
              "  </script>\n",
              "</div>\n",
              "\n",
              "    </div>\n",
              "  </div>\n"
            ]
          },
          "metadata": {},
          "execution_count": 7
        }
      ],
      "source": [
        "df.head()"
      ]
    },
    {
      "cell_type": "code",
      "execution_count": 8,
      "metadata": {
        "colab": {
          "base_uri": "https://localhost:8080/",
          "height": 206
        },
        "id": "f2AUkAzPYnZU",
        "outputId": "185f8484-baab-4abe-a649-3d6517969689"
      },
      "outputs": [
        {
          "output_type": "execute_result",
          "data": {
            "text/plain": [
              "     symbol                       date   close    high     low    open  \\\n",
              "1252   AAPL  2023-12-18 00:00:00+00:00  195.89  196.63  194.39  196.09   \n",
              "1253   AAPL  2023-12-19 00:00:00+00:00  196.94  196.95  195.89  196.16   \n",
              "1254   AAPL  2023-12-20 00:00:00+00:00  194.83  197.68  194.83  196.90   \n",
              "1255   AAPL  2023-12-21 00:00:00+00:00  194.68  197.08  193.50  196.10   \n",
              "1256   AAPL  2023-12-22 00:00:00+00:00  193.60  195.41  192.97  195.18   \n",
              "\n",
              "        volume  adjClose  adjHigh  adjLow  adjOpen  adjVolume  divCash  \\\n",
              "1252  55751861    195.89   196.63  194.39   196.09   55751861      0.0   \n",
              "1253  40233138    196.94   196.95  195.89   196.16   40233138      0.0   \n",
              "1254  52242815    194.83   197.68  194.83   196.90   52242815      0.0   \n",
              "1255  46482549    194.68   197.08  193.50   196.10   46482549      0.0   \n",
              "1256  37149570    193.60   195.41  192.97   195.18   37149570      0.0   \n",
              "\n",
              "      splitFactor  \n",
              "1252          1.0  \n",
              "1253          1.0  \n",
              "1254          1.0  \n",
              "1255          1.0  \n",
              "1256          1.0  "
            ],
            "text/html": [
              "\n",
              "  <div id=\"df-cb12331d-5045-424d-939f-b86aadc8104b\" class=\"colab-df-container\">\n",
              "    <div>\n",
              "<style scoped>\n",
              "    .dataframe tbody tr th:only-of-type {\n",
              "        vertical-align: middle;\n",
              "    }\n",
              "\n",
              "    .dataframe tbody tr th {\n",
              "        vertical-align: top;\n",
              "    }\n",
              "\n",
              "    .dataframe thead th {\n",
              "        text-align: right;\n",
              "    }\n",
              "</style>\n",
              "<table border=\"1\" class=\"dataframe\">\n",
              "  <thead>\n",
              "    <tr style=\"text-align: right;\">\n",
              "      <th></th>\n",
              "      <th>symbol</th>\n",
              "      <th>date</th>\n",
              "      <th>close</th>\n",
              "      <th>high</th>\n",
              "      <th>low</th>\n",
              "      <th>open</th>\n",
              "      <th>volume</th>\n",
              "      <th>adjClose</th>\n",
              "      <th>adjHigh</th>\n",
              "      <th>adjLow</th>\n",
              "      <th>adjOpen</th>\n",
              "      <th>adjVolume</th>\n",
              "      <th>divCash</th>\n",
              "      <th>splitFactor</th>\n",
              "    </tr>\n",
              "  </thead>\n",
              "  <tbody>\n",
              "    <tr>\n",
              "      <th>1252</th>\n",
              "      <td>AAPL</td>\n",
              "      <td>2023-12-18 00:00:00+00:00</td>\n",
              "      <td>195.89</td>\n",
              "      <td>196.63</td>\n",
              "      <td>194.39</td>\n",
              "      <td>196.09</td>\n",
              "      <td>55751861</td>\n",
              "      <td>195.89</td>\n",
              "      <td>196.63</td>\n",
              "      <td>194.39</td>\n",
              "      <td>196.09</td>\n",
              "      <td>55751861</td>\n",
              "      <td>0.0</td>\n",
              "      <td>1.0</td>\n",
              "    </tr>\n",
              "    <tr>\n",
              "      <th>1253</th>\n",
              "      <td>AAPL</td>\n",
              "      <td>2023-12-19 00:00:00+00:00</td>\n",
              "      <td>196.94</td>\n",
              "      <td>196.95</td>\n",
              "      <td>195.89</td>\n",
              "      <td>196.16</td>\n",
              "      <td>40233138</td>\n",
              "      <td>196.94</td>\n",
              "      <td>196.95</td>\n",
              "      <td>195.89</td>\n",
              "      <td>196.16</td>\n",
              "      <td>40233138</td>\n",
              "      <td>0.0</td>\n",
              "      <td>1.0</td>\n",
              "    </tr>\n",
              "    <tr>\n",
              "      <th>1254</th>\n",
              "      <td>AAPL</td>\n",
              "      <td>2023-12-20 00:00:00+00:00</td>\n",
              "      <td>194.83</td>\n",
              "      <td>197.68</td>\n",
              "      <td>194.83</td>\n",
              "      <td>196.90</td>\n",
              "      <td>52242815</td>\n",
              "      <td>194.83</td>\n",
              "      <td>197.68</td>\n",
              "      <td>194.83</td>\n",
              "      <td>196.90</td>\n",
              "      <td>52242815</td>\n",
              "      <td>0.0</td>\n",
              "      <td>1.0</td>\n",
              "    </tr>\n",
              "    <tr>\n",
              "      <th>1255</th>\n",
              "      <td>AAPL</td>\n",
              "      <td>2023-12-21 00:00:00+00:00</td>\n",
              "      <td>194.68</td>\n",
              "      <td>197.08</td>\n",
              "      <td>193.50</td>\n",
              "      <td>196.10</td>\n",
              "      <td>46482549</td>\n",
              "      <td>194.68</td>\n",
              "      <td>197.08</td>\n",
              "      <td>193.50</td>\n",
              "      <td>196.10</td>\n",
              "      <td>46482549</td>\n",
              "      <td>0.0</td>\n",
              "      <td>1.0</td>\n",
              "    </tr>\n",
              "    <tr>\n",
              "      <th>1256</th>\n",
              "      <td>AAPL</td>\n",
              "      <td>2023-12-22 00:00:00+00:00</td>\n",
              "      <td>193.60</td>\n",
              "      <td>195.41</td>\n",
              "      <td>192.97</td>\n",
              "      <td>195.18</td>\n",
              "      <td>37149570</td>\n",
              "      <td>193.60</td>\n",
              "      <td>195.41</td>\n",
              "      <td>192.97</td>\n",
              "      <td>195.18</td>\n",
              "      <td>37149570</td>\n",
              "      <td>0.0</td>\n",
              "      <td>1.0</td>\n",
              "    </tr>\n",
              "  </tbody>\n",
              "</table>\n",
              "</div>\n",
              "    <div class=\"colab-df-buttons\">\n",
              "\n",
              "  <div class=\"colab-df-container\">\n",
              "    <button class=\"colab-df-convert\" onclick=\"convertToInteractive('df-cb12331d-5045-424d-939f-b86aadc8104b')\"\n",
              "            title=\"Convert this dataframe to an interactive table.\"\n",
              "            style=\"display:none;\">\n",
              "\n",
              "  <svg xmlns=\"http://www.w3.org/2000/svg\" height=\"24px\" viewBox=\"0 -960 960 960\">\n",
              "    <path d=\"M120-120v-720h720v720H120Zm60-500h600v-160H180v160Zm220 220h160v-160H400v160Zm0 220h160v-160H400v160ZM180-400h160v-160H180v160Zm440 0h160v-160H620v160ZM180-180h160v-160H180v160Zm440 0h160v-160H620v160Z\"/>\n",
              "  </svg>\n",
              "    </button>\n",
              "\n",
              "  <style>\n",
              "    .colab-df-container {\n",
              "      display:flex;\n",
              "      gap: 12px;\n",
              "    }\n",
              "\n",
              "    .colab-df-convert {\n",
              "      background-color: #E8F0FE;\n",
              "      border: none;\n",
              "      border-radius: 50%;\n",
              "      cursor: pointer;\n",
              "      display: none;\n",
              "      fill: #1967D2;\n",
              "      height: 32px;\n",
              "      padding: 0 0 0 0;\n",
              "      width: 32px;\n",
              "    }\n",
              "\n",
              "    .colab-df-convert:hover {\n",
              "      background-color: #E2EBFA;\n",
              "      box-shadow: 0px 1px 2px rgba(60, 64, 67, 0.3), 0px 1px 3px 1px rgba(60, 64, 67, 0.15);\n",
              "      fill: #174EA6;\n",
              "    }\n",
              "\n",
              "    .colab-df-buttons div {\n",
              "      margin-bottom: 4px;\n",
              "    }\n",
              "\n",
              "    [theme=dark] .colab-df-convert {\n",
              "      background-color: #3B4455;\n",
              "      fill: #D2E3FC;\n",
              "    }\n",
              "\n",
              "    [theme=dark] .colab-df-convert:hover {\n",
              "      background-color: #434B5C;\n",
              "      box-shadow: 0px 1px 3px 1px rgba(0, 0, 0, 0.15);\n",
              "      filter: drop-shadow(0px 1px 2px rgba(0, 0, 0, 0.3));\n",
              "      fill: #FFFFFF;\n",
              "    }\n",
              "  </style>\n",
              "\n",
              "    <script>\n",
              "      const buttonEl =\n",
              "        document.querySelector('#df-cb12331d-5045-424d-939f-b86aadc8104b button.colab-df-convert');\n",
              "      buttonEl.style.display =\n",
              "        google.colab.kernel.accessAllowed ? 'block' : 'none';\n",
              "\n",
              "      async function convertToInteractive(key) {\n",
              "        const element = document.querySelector('#df-cb12331d-5045-424d-939f-b86aadc8104b');\n",
              "        const dataTable =\n",
              "          await google.colab.kernel.invokeFunction('convertToInteractive',\n",
              "                                                    [key], {});\n",
              "        if (!dataTable) return;\n",
              "\n",
              "        const docLinkHtml = 'Like what you see? Visit the ' +\n",
              "          '<a target=\"_blank\" href=https://colab.research.google.com/notebooks/data_table.ipynb>data table notebook</a>'\n",
              "          + ' to learn more about interactive tables.';\n",
              "        element.innerHTML = '';\n",
              "        dataTable['output_type'] = 'display_data';\n",
              "        await google.colab.output.renderOutput(dataTable, element);\n",
              "        const docLink = document.createElement('div');\n",
              "        docLink.innerHTML = docLinkHtml;\n",
              "        element.appendChild(docLink);\n",
              "      }\n",
              "    </script>\n",
              "  </div>\n",
              "\n",
              "\n",
              "<div id=\"df-f52c8022-426c-46c9-83d9-b42e3b9984d3\">\n",
              "  <button class=\"colab-df-quickchart\" onclick=\"quickchart('df-f52c8022-426c-46c9-83d9-b42e3b9984d3')\"\n",
              "            title=\"Suggest charts\"\n",
              "            style=\"display:none;\">\n",
              "\n",
              "<svg xmlns=\"http://www.w3.org/2000/svg\" height=\"24px\"viewBox=\"0 0 24 24\"\n",
              "     width=\"24px\">\n",
              "    <g>\n",
              "        <path d=\"M19 3H5c-1.1 0-2 .9-2 2v14c0 1.1.9 2 2 2h14c1.1 0 2-.9 2-2V5c0-1.1-.9-2-2-2zM9 17H7v-7h2v7zm4 0h-2V7h2v10zm4 0h-2v-4h2v4z\"/>\n",
              "    </g>\n",
              "</svg>\n",
              "  </button>\n",
              "\n",
              "<style>\n",
              "  .colab-df-quickchart {\n",
              "      --bg-color: #E8F0FE;\n",
              "      --fill-color: #1967D2;\n",
              "      --hover-bg-color: #E2EBFA;\n",
              "      --hover-fill-color: #174EA6;\n",
              "      --disabled-fill-color: #AAA;\n",
              "      --disabled-bg-color: #DDD;\n",
              "  }\n",
              "\n",
              "  [theme=dark] .colab-df-quickchart {\n",
              "      --bg-color: #3B4455;\n",
              "      --fill-color: #D2E3FC;\n",
              "      --hover-bg-color: #434B5C;\n",
              "      --hover-fill-color: #FFFFFF;\n",
              "      --disabled-bg-color: #3B4455;\n",
              "      --disabled-fill-color: #666;\n",
              "  }\n",
              "\n",
              "  .colab-df-quickchart {\n",
              "    background-color: var(--bg-color);\n",
              "    border: none;\n",
              "    border-radius: 50%;\n",
              "    cursor: pointer;\n",
              "    display: none;\n",
              "    fill: var(--fill-color);\n",
              "    height: 32px;\n",
              "    padding: 0;\n",
              "    width: 32px;\n",
              "  }\n",
              "\n",
              "  .colab-df-quickchart:hover {\n",
              "    background-color: var(--hover-bg-color);\n",
              "    box-shadow: 0 1px 2px rgba(60, 64, 67, 0.3), 0 1px 3px 1px rgba(60, 64, 67, 0.15);\n",
              "    fill: var(--button-hover-fill-color);\n",
              "  }\n",
              "\n",
              "  .colab-df-quickchart-complete:disabled,\n",
              "  .colab-df-quickchart-complete:disabled:hover {\n",
              "    background-color: var(--disabled-bg-color);\n",
              "    fill: var(--disabled-fill-color);\n",
              "    box-shadow: none;\n",
              "  }\n",
              "\n",
              "  .colab-df-spinner {\n",
              "    border: 2px solid var(--fill-color);\n",
              "    border-color: transparent;\n",
              "    border-bottom-color: var(--fill-color);\n",
              "    animation:\n",
              "      spin 1s steps(1) infinite;\n",
              "  }\n",
              "\n",
              "  @keyframes spin {\n",
              "    0% {\n",
              "      border-color: transparent;\n",
              "      border-bottom-color: var(--fill-color);\n",
              "      border-left-color: var(--fill-color);\n",
              "    }\n",
              "    20% {\n",
              "      border-color: transparent;\n",
              "      border-left-color: var(--fill-color);\n",
              "      border-top-color: var(--fill-color);\n",
              "    }\n",
              "    30% {\n",
              "      border-color: transparent;\n",
              "      border-left-color: var(--fill-color);\n",
              "      border-top-color: var(--fill-color);\n",
              "      border-right-color: var(--fill-color);\n",
              "    }\n",
              "    40% {\n",
              "      border-color: transparent;\n",
              "      border-right-color: var(--fill-color);\n",
              "      border-top-color: var(--fill-color);\n",
              "    }\n",
              "    60% {\n",
              "      border-color: transparent;\n",
              "      border-right-color: var(--fill-color);\n",
              "    }\n",
              "    80% {\n",
              "      border-color: transparent;\n",
              "      border-right-color: var(--fill-color);\n",
              "      border-bottom-color: var(--fill-color);\n",
              "    }\n",
              "    90% {\n",
              "      border-color: transparent;\n",
              "      border-bottom-color: var(--fill-color);\n",
              "    }\n",
              "  }\n",
              "</style>\n",
              "\n",
              "  <script>\n",
              "    async function quickchart(key) {\n",
              "      const quickchartButtonEl =\n",
              "        document.querySelector('#' + key + ' button');\n",
              "      quickchartButtonEl.disabled = true;  // To prevent multiple clicks.\n",
              "      quickchartButtonEl.classList.add('colab-df-spinner');\n",
              "      try {\n",
              "        const charts = await google.colab.kernel.invokeFunction(\n",
              "            'suggestCharts', [key], {});\n",
              "      } catch (error) {\n",
              "        console.error('Error during call to suggestCharts:', error);\n",
              "      }\n",
              "      quickchartButtonEl.classList.remove('colab-df-spinner');\n",
              "      quickchartButtonEl.classList.add('colab-df-quickchart-complete');\n",
              "    }\n",
              "    (() => {\n",
              "      let quickchartButtonEl =\n",
              "        document.querySelector('#df-f52c8022-426c-46c9-83d9-b42e3b9984d3 button');\n",
              "      quickchartButtonEl.style.display =\n",
              "        google.colab.kernel.accessAllowed ? 'block' : 'none';\n",
              "    })();\n",
              "  </script>\n",
              "</div>\n",
              "\n",
              "    </div>\n",
              "  </div>\n"
            ]
          },
          "metadata": {},
          "execution_count": 8
        }
      ],
      "source": [
        "df.tail()"
      ]
    },
    {
      "cell_type": "code",
      "execution_count": 9,
      "metadata": {
        "id": "kAhvf8oVYnZU"
      },
      "outputs": [],
      "source": [
        "df1=df.reset_index()['close']"
      ]
    },
    {
      "cell_type": "code",
      "execution_count": 10,
      "metadata": {
        "colab": {
          "base_uri": "https://localhost:8080/"
        },
        "id": "FljIu_njYnZV",
        "outputId": "78a2f13c-dc0c-4733-aff2-a55cfbc4e101"
      },
      "outputs": [
        {
          "output_type": "execute_result",
          "data": {
            "text/plain": [
              "0       156.15\n",
              "1       156.23\n",
              "2       157.74\n",
              "3       157.92\n",
              "4       142.19\n",
              "         ...  \n",
              "1252    195.89\n",
              "1253    196.94\n",
              "1254    194.83\n",
              "1255    194.68\n",
              "1256    193.60\n",
              "Name: close, Length: 1257, dtype: float64"
            ]
          },
          "metadata": {},
          "execution_count": 10
        }
      ],
      "source": [
        "df1"
      ]
    },
    {
      "cell_type": "code",
      "execution_count": 11,
      "metadata": {
        "colab": {
          "base_uri": "https://localhost:8080/",
          "height": 448
        },
        "id": "9U2UNMa4YnZV",
        "outputId": "56a272cb-cec7-407a-f4d2-ed2dab2ceabb"
      },
      "outputs": [
        {
          "output_type": "execute_result",
          "data": {
            "text/plain": [
              "[<matplotlib.lines.Line2D at 0x793872337f40>]"
            ]
          },
          "metadata": {},
          "execution_count": 11
        },
        {
          "output_type": "display_data",
          "data": {
            "text/plain": [
              "<Figure size 640x480 with 1 Axes>"
            ],
            "image/png": "[encoded data removed]"
          },
          "metadata": {}
        }
      ],
      "source": [
        "import matplotlib.pyplot as plt\n",
        "plt.plot(df1)"
      ]
    },
    {
      "cell_type": "code",
      "execution_count": 12,
      "metadata": {
        "id": "ETpGyL5RYnZV"
      },
      "outputs": [],
      "source": [
        "### LSTM are sensitive to the scale of the data. so we apply MinMax scaler"
      ]
    },
    {
      "cell_type": "code",
      "execution_count": 13,
      "metadata": {
        "id": "s2Im3MarYnZV"
      },
      "outputs": [],
      "source": [
        "import numpy as np"
      ]
    },
    {
      "cell_type": "code",
      "execution_count": 14,
      "metadata": {
        "colab": {
          "base_uri": "https://localhost:8080/"
        },
        "id": "_d2nr3fqYnZW",
        "outputId": "58b07199-c1cb-4379-d5f2-3ab7be9a6f03"
      },
      "outputs": [
        {
          "output_type": "execute_result",
          "data": {
            "text/plain": [
              "0       156.15\n",
              "1       156.23\n",
              "2       157.74\n",
              "3       157.92\n",
              "4       142.19\n",
              "         ...  \n",
              "1252    195.89\n",
              "1253    196.94\n",
              "1254    194.83\n",
              "1255    194.68\n",
              "1256    193.60\n",
              "Name: close, Length: 1257, dtype: float64"
            ]
          },
          "metadata": {},
          "execution_count": 14
        }
      ],
      "source": [
        "df1"
      ]
    },
    {
      "cell_type": "code",
      "execution_count": 15,
      "metadata": {
        "id": "V9-CzB9kYnZW"
      },
      "outputs": [],
      "source": [
        "from sklearn.preprocessing import MinMaxScaler\n",
        "scaler=MinMaxScaler(feature_range=(0,1))\n",
        "df1=scaler.fit_transform(np.array(df1).reshape(-1,1))"
      ]
    },
    {
      "cell_type": "code",
      "execution_count": 16,
      "metadata": {
        "colab": {
          "base_uri": "https://localhost:8080/"
        },
        "id": "g_KLFPf7YnZW",
        "outputId": "b9180b5a-1555-42d1-d0d2-c8f0561df6db"
      },
      "outputs": [
        {
          "output_type": "stream",
          "name": "stdout",
          "text": [
            "[[0.12350657]\n",
            " [0.12370695]\n",
            " [0.12748904]\n",
            " ...\n",
            " [0.22038823]\n",
            " [0.22001252]\n",
            " [0.21730745]]\n"
          ]
        }
      ],
      "source": [
        "print(df1)"
      ]
    },
    {
      "cell_type": "code",
      "execution_count": 17,
      "metadata": {
        "id": "QT5J8NvuYnZW"
      },
      "outputs": [],
      "source": [
        "##splitting dataset into train and test split\n",
        "training_size=int(len(df1)*0.65)\n",
        "test_size=len(df1)-training_size\n",
        "train_data,test_data=df1[0:training_size,:],df1[training_size:len(df1),:1]"
      ]
    },
    {
      "cell_type": "code",
      "execution_count": 18,
      "metadata": {
        "colab": {
          "base_uri": "https://localhost:8080/"
        },
        "id": "thVt0JZVYnZW",
        "outputId": "6eb87e0a-bcf8-43b7-dfb1-b1aa48330aa9"
      },
      "outputs": [
        {
          "output_type": "execute_result",
          "data": {
            "text/plain": [
              "(817, 440)"
            ]
          },
          "metadata": {},
          "execution_count": 18
        }
      ],
      "source": [
        "training_size,test_size"
      ]
    },
    {
      "cell_type": "code",
      "execution_count": 19,
      "metadata": {
        "colab": {
          "base_uri": "https://localhost:8080/"
        },
        "id": "tkQDjocnYnZX",
        "outputId": "3d633304-fa72-48d7-81f8-3289e376a8d6"
      },
      "outputs": [
        {
          "output_type": "execute_result",
          "data": {
            "text/plain": [
              "array([[1.23506575e-01],\n",
              "       [1.23706951e-01],\n",
              "       [1.27489042e-01],\n",
              "       [1.27939887e-01],\n",
              "       [8.85410144e-02],\n",
              "       [1.03744521e-01],\n",
              "       [1.02917971e-01],\n",
              "       [1.09981215e-01],\n",
              "       [1.16393237e-01],\n",
              "       [1.17620539e-01],\n",
              "       [1.13838447e-01],\n",
              "       [1.08102693e-01],\n",
              "       [1.15792110e-01],\n",
              "       [1.20475892e-01],\n",
              "       [1.22780213e-01],\n",
              "       [1.25184721e-01],\n",
              "       [1.16368190e-01],\n",
              "       [1.17921102e-01],\n",
              "       [1.14865373e-01],\n",
              "       [1.27539136e-01],\n",
              "       [1.23882279e-01],\n",
              "       [1.19824671e-01],\n",
              "       [1.46299311e-01],\n",
              "       [1.49279900e-01],\n",
              "       [1.49480276e-01],\n",
              "       [1.61327489e-01],\n",
              "       [1.68666249e-01],\n",
              "       [1.68816531e-01],\n",
              "       [1.60551033e-01],\n",
              "       [1.59223544e-01],\n",
              "       [1.56768942e-01],\n",
              "       [1.60425798e-01],\n",
              "       [1.58647464e-01],\n",
              "       [1.60200376e-01],\n",
              "       [1.59248591e-01],\n",
              "       [1.60525986e-01],\n",
              "       [1.63281152e-01],\n",
              "       [1.60851597e-01],\n",
              "       [1.65635567e-01],\n",
              "       [1.68791484e-01],\n",
              "       [1.69041954e-01],\n",
              "       [1.70394490e-01],\n",
              "       [1.66086412e-01],\n",
              "       [1.70644959e-01],\n",
              "       [1.72849092e-01],\n",
              "       [1.72047589e-01],\n",
              "       [1.69517846e-01],\n",
              "       [1.64458359e-01],\n",
              "       [1.65485285e-01],\n",
              "       [1.80488416e-01],\n",
              "       [1.85522855e-01],\n",
              "       [1.87526612e-01],\n",
              "       [1.92586099e-01],\n",
              "       [1.98572323e-01],\n",
              "       [2.03331246e-01],\n",
              "       [1.99599249e-01],\n",
              "       [2.03681904e-01],\n",
              "       [2.21039449e-01],\n",
              "       [2.10920476e-01],\n",
              "       [2.05134627e-01],\n",
              "       [2.00250470e-01],\n",
              "       [2.04458359e-01],\n",
              "       [2.05084534e-01],\n",
              "       [2.08165310e-01],\n",
              "       [2.11396368e-01],\n",
              "       [2.18359424e-01],\n",
              "       [2.21690670e-01],\n",
              "       [2.22542267e-01],\n",
              "       [2.25823419e-01],\n",
              "       [2.33587977e-01],\n",
              "       [2.32085160e-01],\n",
              "       [2.34890420e-01],\n",
              "       [2.30707577e-01],\n",
              "       [2.30507201e-01],\n",
              "       [2.31408892e-01],\n",
              "       [2.31458986e-01],\n",
              "       [2.41177207e-01],\n",
              "       [2.43005636e-01],\n",
              "       [2.44683782e-01],\n",
              "       [2.52072636e-01],\n",
              "       [2.51271133e-01],\n",
              "       [2.46562304e-01],\n",
              "       [2.44107702e-01],\n",
              "       [2.44884158e-01],\n",
              "       [2.35015654e-01],\n",
              "       [2.59686913e-01],\n",
              "       [2.56255479e-01],\n",
              "       [2.62767689e-01],\n",
              "       [2.54577332e-01],\n",
              "       [2.40500939e-01],\n",
              "       [2.40601127e-01],\n",
              "       [2.35140889e-01],\n",
              "       [2.26274264e-01],\n",
              "       [1.97570445e-01],\n",
              "       [2.04934252e-01],\n",
              "       [2.10594865e-01],\n",
              "       [2.08490920e-01],\n",
              "       [2.05785848e-01],\n",
              "       [1.90983093e-01],\n",
              "       [1.99774577e-01],\n",
              "       [1.90206637e-01],\n",
              "       [1.82391985e-01],\n",
              "       [1.80663745e-01],\n",
              "       [1.78810269e-01],\n",
              "       [1.76681277e-01],\n",
              "       [1.78985598e-01],\n",
              "       [1.70895429e-01],\n",
              "       [1.66462116e-01],\n",
              "       [1.82341891e-01],\n",
              "       [1.89605510e-01],\n",
              "       [1.96318096e-01],\n",
              "       [2.08666249e-01],\n",
              "       [2.14752661e-01],\n",
              "       [2.20338134e-01],\n",
              "       [2.18785222e-01],\n",
              "       [2.18685034e-01],\n",
              "       [2.15153413e-01],\n",
              "       [2.18033813e-01],\n",
              "       [2.29455229e-01],\n",
              "       [2.28002505e-01],\n",
              "       [2.31984972e-01],\n",
              "       [2.30281778e-01],\n",
              "       [2.29780839e-01],\n",
              "       [2.22241703e-01],\n",
              "       [2.32836569e-01],\n",
              "       [2.32686287e-01],\n",
              "       [2.28127740e-01],\n",
              "       [2.37219787e-01],\n",
              "       [2.40175329e-01],\n",
              "       [2.44383219e-01],\n",
              "       [2.43932373e-01],\n",
              "       [2.33387602e-01],\n",
              "       [2.36443331e-01],\n",
              "       [2.41427677e-01],\n",
              "       [2.37720726e-01],\n",
              "       [2.41603006e-01],\n",
              "       [2.46386976e-01],\n",
              "       [2.44608641e-01],\n",
              "       [2.41728240e-01],\n",
              "       [2.47514089e-01],\n",
              "       [2.39824671e-01],\n",
              "       [2.51421415e-01],\n",
              "       [2.55479023e-01],\n",
              "       [2.55053225e-01],\n",
              "       [2.50920476e-01],\n",
              "       [2.52723857e-01],\n",
              "       [2.57582968e-01],\n",
              "       [2.55328741e-01],\n",
              "       [2.65998748e-01],\n",
              "       [2.54452098e-01],\n",
              "       [2.43406387e-01],\n",
              "       [2.16656230e-01],\n",
              "       [2.25823419e-01],\n",
              "       [2.30932999e-01],\n",
              "       [2.41928616e-01],\n",
              "       [2.35817157e-01],\n",
              "       [2.34539762e-01],\n",
              "       [2.55804634e-01],\n",
              "       [2.40225423e-01],\n",
              "       [2.37695679e-01],\n",
              "       [2.49618034e-01],\n",
              "       [2.59261115e-01],\n",
              "       [2.59286162e-01],\n",
              "       [2.64996869e-01],\n",
              "       [2.64546024e-01],\n",
              "       [2.39949906e-01],\n",
              "       [2.49592987e-01],\n",
              "       [2.43757044e-01],\n",
              "       [2.47188478e-01],\n",
              "       [2.55904822e-01],\n",
              "       [2.55228554e-01],\n",
              "       [2.47614277e-01],\n",
              "       [2.56355667e-01],\n",
              "       [2.66599875e-01],\n",
              "       [2.66549781e-01],\n",
              "       [2.68829054e-01],\n",
              "       [2.75165936e-01],\n",
              "       [2.92423294e-01],\n",
              "       [2.91170946e-01],\n",
              "       [2.80300564e-01],\n",
              "       [2.83180964e-01],\n",
              "       [2.85184721e-01],\n",
              "       [2.90369443e-01],\n",
              "       [2.85835942e-01],\n",
              "       [2.77745773e-01],\n",
              "       [2.80225423e-01],\n",
              "       [2.77620539e-01],\n",
              "       [2.86011271e-01],\n",
              "       [2.83155917e-01],\n",
              "       [2.80475892e-01],\n",
              "       [2.93375078e-01],\n",
              "       [2.94927990e-01],\n",
              "       [2.80826550e-01],\n",
              "       [2.85485285e-01],\n",
              "       [3.00989355e-01],\n",
              "       [3.01114590e-01],\n",
              "       [2.94452098e-01],\n",
              "       [3.01039449e-01],\n",
              "       [3.08703820e-01],\n",
              "       [3.24032561e-01],\n",
              "       [3.23180964e-01],\n",
              "       [3.21803381e-01],\n",
              "       [3.19423920e-01],\n",
              "       [3.21703193e-01],\n",
              "       [3.24533500e-01],\n",
              "       [3.34802755e-01],\n",
              "       [3.33425172e-01],\n",
              "       [3.41490294e-01],\n",
              "       [3.42492173e-01],\n",
              "       [3.50006262e-01],\n",
              "       [3.56192862e-01],\n",
              "       [3.41765811e-01],\n",
              "       [3.41690670e-01],\n",
              "       [3.55466500e-01],\n",
              "       [3.73149656e-01],\n",
              "       [3.77357545e-01],\n",
              "       [3.76430808e-01],\n",
              "       [3.76706324e-01],\n",
              "       [3.82191609e-01],\n",
              "       [3.83969944e-01],\n",
              "       [3.89129618e-01],\n",
              "       [3.88528491e-01],\n",
              "       [3.94815279e-01],\n",
              "       [3.90231684e-01],\n",
              "       [3.98046337e-01],\n",
              "       [4.01402630e-01],\n",
              "       [3.99373826e-01],\n",
              "       [3.91609267e-01],\n",
              "       [3.88653726e-01],\n",
              "       [3.88077646e-01],\n",
              "       [3.99574202e-01],\n",
              "       [3.94364433e-01],\n",
              "       [4.03256105e-01],\n",
              "       [4.01778334e-01],\n",
              "       [3.94038823e-01],\n",
              "       [3.82241703e-01],\n",
              "       [3.87977458e-01],\n",
              "       [3.97595492e-01],\n",
              "       [4.10444584e-01],\n",
              "       [4.00951785e-01],\n",
              "       [4.04859111e-01],\n",
              "       [4.10594865e-01],\n",
              "       [4.12323106e-01],\n",
              "       [4.21565435e-01],\n",
              "       [4.33362555e-01],\n",
              "       [4.34740138e-01],\n",
              "       [4.33061991e-01],\n",
              "       [4.33763306e-01],\n",
              "       [4.32310582e-01],\n",
              "       [4.43731997e-01],\n",
              "       [4.44408265e-01],\n",
              "       [4.58534753e-01],\n",
              "       [4.58259236e-01],\n",
              "       [4.62567314e-01],\n",
              "       [4.67902317e-01],\n",
              "       [4.84683782e-01],\n",
              "       [4.77370069e-01],\n",
              "       [4.83306199e-01],\n",
              "       [4.79774577e-01],\n",
              "       [4.91797120e-01],\n",
              "       [5.07927364e-01],\n",
              "       [5.09680651e-01],\n",
              "       [5.26286788e-01],\n",
              "       [5.15566688e-01],\n",
              "       [5.12210394e-01],\n",
              "       [5.21978710e-01],\n",
              "       [5.30720100e-01],\n",
              "       [5.25309956e-01],\n",
              "       [5.28140263e-01],\n",
              "       [5.31972448e-01],\n",
              "       [5.29668128e-01],\n",
              "       [5.06224170e-01],\n",
              "       [5.28115216e-01],\n",
              "       [5.44771446e-01],\n",
              "       [5.43594239e-01],\n",
              "       [5.07626800e-01],\n",
              "       [5.05497808e-01],\n",
              "       [5.31020664e-01],\n",
              "       [5.37532874e-01],\n",
              "       [5.46950532e-01],\n",
              "       [5.33976205e-01],\n",
              "       [5.37783344e-01],\n",
              "       [5.32924233e-01],\n",
              "       [5.51934878e-01],\n",
              "       [5.46098936e-01],\n",
              "       [5.46299311e-01],\n",
              "       [5.31396368e-01],\n",
              "       [5.42968065e-01],\n",
              "       [5.34652473e-01],\n",
              "       [5.16493425e-01],\n",
              "       [4.79248591e-01],\n",
              "       [4.53951158e-01],\n",
              "       [4.65397621e-01],\n",
              "       [4.17482780e-01],\n",
              "       [4.17082029e-01],\n",
              "       [4.80826550e-01],\n",
              "       [4.57056982e-01],\n",
              "       [4.90670006e-01],\n",
              "       [4.66073889e-01],\n",
              "       [4.56330620e-01],\n",
              "       [3.99073262e-01],\n",
              "       [4.47088291e-01],\n",
              "       [4.22266750e-01],\n",
              "       [3.54139011e-01],\n",
              "       [4.28628679e-01],\n",
              "       [3.39060739e-01],\n",
              "       [3.65735755e-01],\n",
              "       [3.50231684e-01],\n",
              "       [3.45497808e-01],\n",
              "       [3.06574828e-01],\n",
              "       [2.94376957e-01],\n",
              "       [3.50757671e-01],\n",
              "       [3.47351284e-01],\n",
              "       [3.79711960e-01],\n",
              "       [3.52911709e-01],\n",
              "       [3.70619912e-01],\n",
              "       [3.69317470e-01],\n",
              "       [3.35804634e-01],\n",
              "       [3.45873513e-01],\n",
              "       [3.37056982e-01],\n",
              "       [3.89805886e-01],\n",
              "       [3.82191609e-01],\n",
              "       [3.98822793e-01],\n",
              "       [4.03631810e-01],\n",
              "       [4.16806512e-01],\n",
              "       [4.51371321e-01],\n",
              "       [4.44809017e-01],\n",
              "       [4.50469631e-01],\n",
              "       [4.40726362e-01],\n",
              "       [4.26023795e-01],\n",
              "       [4.04583594e-01],\n",
              "       [4.23944897e-01],\n",
              "       [4.21264872e-01],\n",
              "       [4.41152160e-01],\n",
              "       [4.41653100e-01],\n",
              "       [4.30156544e-01],\n",
              "       [4.53074515e-01],\n",
              "       [4.68278021e-01],\n",
              "       [4.56430808e-01],\n",
              "       [4.66675016e-01],\n",
              "       [4.77695679e-01],\n",
              "       [4.85385097e-01],\n",
              "       [4.93174703e-01],\n",
              "       [5.09179712e-01],\n",
              "       [5.21402630e-01],\n",
              "       [5.12385723e-01],\n",
              "       [5.02968065e-01],\n",
              "       [5.07701941e-01],\n",
              "       [5.03118347e-01],\n",
              "       [5.21277395e-01],\n",
              "       [5.16718848e-01],\n",
              "       [5.31972448e-01],\n",
              "       [5.26011271e-01],\n",
              "       [5.31120852e-01],\n",
              "       [5.25710708e-01],\n",
              "       [5.29167188e-01],\n",
              "       [5.29517846e-01],\n",
              "       [5.28741390e-01],\n",
              "       [5.38534753e-01],\n",
              "       [5.42266750e-01],\n",
              "       [5.46725110e-01],\n",
              "       [5.39711960e-01],\n",
              "       [5.62705072e-01],\n",
              "       [5.67614277e-01],\n",
              "       [5.93988729e-01],\n",
              "       [6.16155291e-01],\n",
              "       [5.73725736e-01],\n",
              "       [5.80989355e-01],\n",
              "       [5.91484033e-01],\n",
              "       [6.14251722e-01],\n",
              "       [6.13024421e-01],\n",
              "       [6.13375078e-01],\n",
              "       [6.08340639e-01],\n",
              "       [6.31258610e-01],\n",
              "       [6.50444584e-01],\n",
              "       [6.34239198e-01],\n",
              "       [6.46211647e-01],\n",
              "       [6.18134001e-01],\n",
              "       [6.38547276e-01],\n",
              "       [6.46111459e-01],\n",
              "       [6.44383219e-01],\n",
              "       [6.44383219e-01],\n",
              "       [6.68778961e-01],\n",
              "       [6.65873513e-01],\n",
              "       [6.87614277e-01],\n",
              "       [6.91721979e-01],\n",
              "       [6.93400125e-01],\n",
              "       [6.88966813e-01],\n",
              "       [7.04796493e-01],\n",
              "       [7.11484033e-01],\n",
              "       [6.99436443e-01],\n",
              "       [6.97482780e-01],\n",
              "       [7.17820914e-01],\n",
              "       [7.04220413e-01],\n",
              "       [7.06950532e-01],\n",
              "       [6.62592361e-01],\n",
              "       [6.60288040e-01],\n",
              "       [6.82279274e-01],\n",
              "       [6.66675016e-01],\n",
              "       [6.84583594e-01],\n",
              "       [6.96105197e-01],\n",
              "       [7.96994364e-01],\n",
              "       [8.23819662e-01],\n",
              "       [8.31108328e-01],\n",
              "       [8.35090795e-01],\n",
              "       [8.73562930e-01],\n",
              "       [8.45610520e-01],\n",
              "       [8.61790858e-01],\n",
              "       [8.28202880e-01],\n",
              "       [8.64621165e-01],\n",
              "       [8.84658735e-01],\n",
              "       [8.83631810e-01],\n",
              "       [8.80626174e-01],\n",
              "       [8.90194114e-01],\n",
              "       [8.91646838e-01],\n",
              "       [9.17370069e-01],\n",
              "       [9.78434565e-01],\n",
              "       [9.93337508e-01],\n",
              "       [9.82993112e-01],\n",
              "       [1.00000000e+00],\n",
              "       [9.84846587e-01],\n",
              "       [9.82817783e-01],\n",
              "       [5.56042580e-02],\n",
              "       [6.84783970e-02],\n",
              "       [6.15153413e-02],\n",
              "       [3.51659361e-02],\n",
              "       [3.53663118e-02],\n",
              "       [1.49780839e-02],\n",
              "       [2.62492173e-02],\n",
              "       [1.66562304e-02],\n",
              "       [1.29242329e-02],\n",
              "       [2.13274890e-02],\n",
              "       [2.17908579e-02],\n",
              "       [1.32498435e-02],\n",
              "       [8.76643707e-03],\n",
              "       [0.00000000e+00],\n",
              "       [8.11521603e-03],\n",
              "       [1.24483406e-02],\n",
              "       [7.01314966e-04],\n",
              "       [3.45648090e-03],\n",
              "       [1.36255479e-02],\n",
              "       [2.03381340e-02],\n",
              "       [1.81590482e-02],\n",
              "       [2.24671259e-02],\n",
              "       [2.49217282e-02],\n",
              "       [1.54790232e-02],\n",
              "       [2.41953663e-02],\n",
              "       [1.58296807e-02],\n",
              "       [2.06386976e-02],\n",
              "       [2.03631810e-02],\n",
              "       [2.53725736e-02],\n",
              "       [4.39824671e-02],\n",
              "       [3.57169693e-02],\n",
              "       [3.59423920e-02],\n",
              "       [3.47401378e-02],\n",
              "       [3.05072010e-02],\n",
              "       [2.28929242e-02],\n",
              "       [2.67251096e-02],\n",
              "       [2.51221039e-02],\n",
              "       [2.23168441e-02],\n",
              "       [2.05385097e-02],\n",
              "       [2.05635567e-02],\n",
              "       [2.44458359e-02],\n",
              "       [1.09204759e-02],\n",
              "       [2.12398247e-02],\n",
              "       [5.05948654e-03],\n",
              "       [4.83406387e-03],\n",
              "       [9.01690670e-03],\n",
              "       [2.03130870e-02],\n",
              "       [3.05322480e-02],\n",
              "       [2.96806512e-02],\n",
              "       [2.37445210e-02],\n",
              "       [2.28678773e-02],\n",
              "       [3.16844083e-02],\n",
              "       [3.09830933e-02],\n",
              "       [3.11083281e-02],\n",
              "       [3.37132123e-02],\n",
              "       [3.14339386e-02],\n",
              "       [2.80275517e-02],\n",
              "       [2.95554164e-02],\n",
              "       [2.62993112e-02],\n",
              "       [1.75579211e-02],\n",
              "       [2.08641202e-02],\n",
              "       [2.30181590e-02],\n",
              "       [2.44207890e-02],\n",
              "       [3.05823419e-02],\n",
              "       [3.97745773e-02],\n",
              "       [4.06762680e-02],\n",
              "       [4.03256105e-02],\n",
              "       [3.85973701e-02],\n",
              "       [4.23544145e-02],\n",
              "       [4.39323732e-02],\n",
              "       [3.74201628e-02],\n",
              "       [4.10770194e-02],\n",
              "       [3.89981215e-02],\n",
              "       [3.74201628e-02],\n",
              "       [5.26988103e-02],\n",
              "       [5.25234815e-02],\n",
              "       [5.47526612e-02],\n",
              "       [4.96305573e-02],\n",
              "       [5.35754540e-02],\n",
              "       [6.27175955e-02],\n",
              "       [6.04132749e-02],\n",
              "       [6.29430182e-02],\n",
              "       [7.47651847e-02],\n",
              "       [7.02066374e-02],\n",
              "       [6.73262367e-02],\n",
              "       [6.47463995e-02],\n",
              "       [5.65309956e-02],\n",
              "       [6.05385097e-02],\n",
              "       [4.94927990e-02],\n",
              "       [6.03130870e-02],\n",
              "       [6.31433939e-02],\n",
              "       [5.54539762e-02],\n",
              "       [5.50031309e-02],\n",
              "       [6.02379461e-02],\n",
              "       [5.52786475e-02],\n",
              "       [5.08453350e-02],\n",
              "       [5.25735755e-02],\n",
              "       [6.30932999e-02],\n",
              "       [7.52160301e-02],\n",
              "       [8.07263619e-02],\n",
              "       [9.03694427e-02],\n",
              "       [9.09705698e-02],\n",
              "       [8.82154039e-02],\n",
              "       [7.57670632e-02],\n",
              "       [6.29179712e-02],\n",
              "       [6.83782091e-02],\n",
              "       [7.05072010e-02],\n",
              "       [6.78772699e-02],\n",
              "       [7.65184721e-02],\n",
              "       [7.49405135e-02],\n",
              "       [7.53162179e-02],\n",
              "       [7.30619912e-02],\n",
              "       [7.15090795e-02],\n",
              "       [7.08578585e-02],\n",
              "       [7.14589856e-02],\n",
              "       [6.59987477e-02],\n",
              "       [6.01127113e-02],\n",
              "       [5.72824045e-02],\n",
              "       [5.76831559e-02],\n",
              "       [4.79899812e-02],\n",
              "       [4.76393237e-02],\n",
              "       [4.63619286e-02],\n",
              "       [3.54414527e-02],\n",
              "       [3.61177207e-02],\n",
              "       [5.24733876e-02],\n",
              "       [4.57858485e-02],\n",
              "       [3.81214778e-02],\n",
              "       [3.32874139e-02],\n",
              "       [3.65184721e-02],\n",
              "       [2.38447088e-02],\n",
              "       [3.56793989e-02],\n",
              "       [3.29117095e-02],\n",
              "       [3.78710081e-02],\n",
              "       [3.55416406e-02],\n",
              "       [4.29555416e-02],\n",
              "       [4.69129618e-02],\n",
              "       [4.48841578e-02],\n",
              "       [3.42892924e-02],\n",
              "       [3.29367564e-02],\n",
              "       [4.14527239e-02],\n",
              "       [3.93237320e-02],\n",
              "       [3.31872260e-02],\n",
              "       [3.44395742e-02],\n",
              "       [3.59924859e-02],\n",
              "       [3.64433312e-02],\n",
              "       [3.27113338e-02],\n",
              "       [3.83469004e-02],\n",
              "       [4.04758923e-02],\n",
              "       [4.77395116e-02],\n",
              "       [4.85159674e-02],\n",
              "       [5.27489042e-02],\n",
              "       [5.89104571e-02],\n",
              "       [6.55103319e-02],\n",
              "       [6.11145899e-02],\n",
              "       [6.91045711e-02],\n",
              "       [6.30932999e-02],\n",
              "       [6.92798998e-02],\n",
              "       [6.84283031e-02],\n",
              "       [7.01314966e-02],\n",
              "       [6.57983719e-02],\n",
              "       [6.67752035e-02],\n",
              "       [6.28678773e-02],\n",
              "       [6.88290545e-02],\n",
              "       [6.98309330e-02],\n",
              "       [6.90043832e-02],\n",
              "       [6.69755792e-02],\n",
              "       [6.67251096e-02],\n",
              "       [6.16656230e-02],\n",
              "       [6.43706951e-02],\n",
              "       [5.26236694e-02],\n",
              "       [5.32498435e-02],\n",
              "       [5.73575454e-02],\n",
              "       [5.85347527e-02],\n",
              "       [5.01189731e-02],\n",
              "       [4.77645585e-02],\n",
              "       [3.98998121e-02],\n",
              "       [4.54101440e-02],\n",
              "       [5.16217909e-02],\n",
              "       [4.86662492e-02],\n",
              "       [4.51095805e-02],\n",
              "       [4.47088291e-02],\n",
              "       [5.12711334e-02],\n",
              "       [4.65623043e-02],\n",
              "       [5.07451472e-02],\n",
              "       [5.02442079e-02],\n",
              "       [5.01189731e-02],\n",
              "       [4.61865999e-02],\n",
              "       [4.45084534e-02],\n",
              "       [4.36819036e-02],\n",
              "       [4.56355667e-02],\n",
              "       [4.18284283e-02],\n",
              "       [4.77144646e-02],\n",
              "       [4.77395116e-02],\n",
              "       [4.98434565e-02],\n",
              "       [5.08202880e-02],\n",
              "       [4.82654978e-02],\n",
              "       [5.13713212e-02],\n",
              "       [5.92110207e-02],\n",
              "       [5.71070758e-02],\n",
              "       [5.83844709e-02],\n",
              "       [6.24921728e-02],\n",
              "       [5.91609267e-02],\n",
              "       [6.37695679e-02],\n",
              "       [6.79774577e-02],\n",
              "       [6.72761428e-02],\n",
              "       [6.65497808e-02],\n",
              "       [6.57983719e-02],\n",
              "       [6.99812148e-02],\n",
              "       [7.38634941e-02],\n",
              "       [7.54414527e-02],\n",
              "       [7.62179086e-02],\n",
              "       [8.29555416e-02],\n",
              "       [8.81152160e-02],\n",
              "       [9.45021916e-02],\n",
              "       [9.11709455e-02],\n",
              "       [9.58547276e-02],\n",
              "       [9.43268629e-02],\n",
              "       [9.71822167e-02],\n",
              "       [1.05973701e-01],\n",
              "       [1.04295554e-01],\n",
              "       [9.90607389e-02],\n",
              "       [8.91922354e-02],\n",
              "       [9.84596118e-02],\n",
              "       [9.65810895e-02],\n",
              "       [1.00087664e-01],\n",
              "       [1.04495930e-01],\n",
              "       [1.05572949e-01],\n",
              "       [1.00012523e-01],\n",
              "       [9.55291171e-02],\n",
              "       [9.71822167e-02],\n",
              "       [9.77332498e-02],\n",
              "       [9.68816531e-02],\n",
              "       [1.01490294e-01],\n",
              "       [1.00463369e-01],\n",
              "       [1.00738885e-01],\n",
              "       [9.84345648e-02],\n",
              "       [9.83093300e-02],\n",
              "       [9.70820288e-02],\n",
              "       [9.77332498e-02],\n",
              "       [1.05322480e-01],\n",
              "       [1.05848466e-01],\n",
              "       [1.10907952e-01],\n",
              "       [1.08578585e-01],\n",
              "       [9.89855980e-02],\n",
              "       [9.98371947e-02],\n",
              "       [1.03569192e-01],\n",
              "       [1.07376331e-01],\n",
              "       [1.07150908e-01],\n",
              "       [1.03994991e-01],\n",
              "       [1.01941140e-01],\n",
              "       [1.04596118e-01],\n",
              "       [1.15917345e-01],\n",
              "       [1.12686287e-01],\n",
              "       [1.14389480e-01],\n",
              "       [1.17244834e-01],\n",
              "       [1.18872887e-01],\n",
              "       [1.24859111e-01],\n",
              "       [1.20901691e-01],\n",
              "       [1.18296807e-01],\n",
              "       [1.05522855e-01],\n",
              "       [1.06975579e-01],\n",
              "       [1.03393863e-01],\n",
              "       [1.05673137e-01],\n",
              "       [1.05072010e-01],\n",
              "       [9.82341891e-02],\n",
              "       [9.04195366e-02],\n",
              "       [9.16468378e-02],\n",
              "       [9.77082029e-02],\n",
              "       [1.00162805e-01],\n",
              "       [1.00388228e-01],\n",
              "       [9.65059487e-02],\n",
              "       [8.78396994e-02],\n",
              "       [9.01440200e-02],\n",
              "       [8.68127740e-02],\n",
              "       [8.96931747e-02],\n",
              "       [8.09016907e-02],\n",
              "       [8.58359424e-02],\n",
              "       [8.80651221e-02],\n",
              "       [9.12961803e-02],\n",
              "       [9.03193488e-02],\n",
              "       [9.00939261e-02],\n",
              "       [8.68378209e-02],\n",
              "       [8.53350031e-02],\n",
              "       [9.24733876e-02],\n",
              "       [9.51784596e-02],\n",
              "       [9.94614903e-02],\n",
              "       [1.04996869e-01],\n",
              "       [1.06249217e-01],\n",
              "       [1.06800250e-01],\n",
              "       [1.04821540e-01],\n",
              "       [1.04696306e-01],\n",
              "       [1.06399499e-01],\n",
              "       [1.05222292e-01],\n",
              "       [1.14539762e-01],\n",
              "       [1.07601753e-01],\n",
              "       [1.05497808e-01],\n",
              "       [1.08152786e-01],\n",
              "       [1.11834690e-01],\n",
              "       [1.10507201e-01],\n",
              "       [1.11308704e-01],\n",
              "       [1.09204759e-01],\n",
              "       [1.10131497e-01],\n",
              "       [1.02892924e-01],\n",
              "       [1.02767689e-01],\n",
              "       [1.08077646e-01],\n",
              "       [1.08102693e-01],\n",
              "       [1.10607389e-01],\n",
              "       [1.16844083e-01],\n",
              "       [1.27814652e-01],\n",
              "       [1.34527239e-01],\n",
              "       [1.35704446e-01],\n",
              "       [1.36681277e-01],\n",
              "       [1.38008766e-01],\n",
              "       [1.25159674e-01],\n",
              "       [1.33750783e-01],\n",
              "       [1.46424546e-01],\n",
              "       [1.45097057e-01],\n",
              "       [1.42567314e-01],\n",
              "       [1.37758297e-01],\n",
              "       [1.46474640e-01],\n",
              "       [1.61152160e-01],\n",
              "       [1.70920476e-01],\n",
              "       [1.69618034e-01],\n",
              "       [1.81865999e-01],\n",
              "       [1.72573575e-01],\n",
              "       [1.69041954e-01],\n",
              "       [1.81490294e-01],\n",
              "       [1.63857232e-01],\n",
              "       [1.61051972e-01],\n",
              "       [1.57570445e-01],\n",
              "       [1.65685661e-01],\n",
              "       [1.72323106e-01],\n",
              "       [1.73926111e-01],\n",
              "       [1.84070131e-01],\n",
              "       [1.81465247e-01],\n",
              "       [1.81690670e-01],\n",
              "       [1.78735128e-01],\n",
              "       [1.77157170e-01],\n",
              "       [1.88278021e-01],\n",
              "       [1.82492173e-01],\n",
              "       [1.70519724e-01],\n",
              "       [1.63206011e-01],\n",
              "       [1.63631810e-01],\n",
              "       [1.63681904e-01],\n",
              "       [1.70920476e-01],\n",
              "       [1.72047589e-01],\n",
              "       [1.63681904e-01],\n",
              "       [1.65886036e-01],\n",
              "       [1.57695679e-01],\n",
              "       [1.48753914e-01],\n",
              "       [1.44445836e-01],\n",
              "       [1.39185974e-01],\n",
              "       [1.37207264e-01],\n",
              "       [1.32598622e-01],\n",
              "       [1.32373200e-01],\n",
              "       [1.31195992e-01],\n",
              "       [1.59023168e-01],\n",
              "       [1.70169067e-01],\n",
              "       [1.69743269e-01],\n",
              "       [1.72824045e-01],\n",
              "       [1.65460238e-01],\n",
              "       [1.64182843e-01],\n",
              "       [1.62354415e-01],\n",
              "       [1.70294302e-01],\n",
              "       [1.73926111e-01],\n",
              "       [1.63506575e-01],\n",
              "       [1.54790232e-01],\n",
              "       [1.55391359e-01],\n",
              "       [1.65184721e-01],\n",
              "       [1.64583594e-01],\n",
              "       [1.55391359e-01],\n",
              "       [1.51433939e-01],\n",
              "       [1.43969944e-01],\n",
              "       [1.33324984e-01],\n",
              "       [1.40012523e-01],\n",
              "       [1.45297433e-01],\n",
              "       [1.45973701e-01],\n",
              "       [1.41164684e-01],\n",
              "       [1.49580463e-01],\n",
              "       [1.48753914e-01],\n",
              "       [1.41089543e-01],\n",
              "       [1.31396368e-01],\n",
              "       [1.26737633e-01],\n",
              "       [1.40538510e-01],\n",
              "       [1.29442705e-01],\n",
              "       [1.19949906e-01],\n",
              "       [1.09655604e-01],\n",
              "       [1.20851597e-01],\n",
              "       [1.32122730e-01],\n",
              "       [1.34702567e-01],\n",
              "       [1.43118347e-01],\n",
              "       [1.46624922e-01],\n",
              "       [1.55241077e-01],\n",
              "       [1.58722605e-01],\n",
              "       [1.68390733e-01]])"
            ]
          },
          "metadata": {},
          "execution_count": 19
        }
      ],
      "source": [
        "train_data"
      ]
    },
    {
      "cell_type": "code",
      "execution_count": 20,
      "metadata": {
        "id": "jf7s-xxaYnZX"
      },
      "outputs": [],
      "source": [
        "import numpy\n",
        "# convert an array of values into a dataset matrix\n",
        "def create_dataset(dataset, time_step=1):\n",
        "\tdataX, dataY = [], []\n",
        "\tfor i in range(len(dataset)-time_step-1):\n",
        "\t\ta = dataset[i:(i+time_step), 0]   ###i=0, 0,1,2,3-----99   100\n",
        "\t\tdataX.append(a)\n",
        "\t\tdataY.append(dataset[i + time_step, 0])\n",
        "\treturn numpy.array(dataX), numpy.array(dataY)"
      ]
    },
    {
      "cell_type": "code",
      "execution_count": 21,
      "metadata": {
        "id": "SVwhS4FTYnZX"
      },
      "outputs": [],
      "source": [
        "# reshape into X=t,t+1,t+2,t+3 and Y=t+4\n",
        "time_step = 100\n",
        "X_train, y_train = create_dataset(train_data, time_step)\n",
        "X_test, ytest = create_dataset(test_data, time_step)"
      ]
    },
    {
      "cell_type": "code",
      "execution_count": 22,
      "metadata": {
        "colab": {
          "base_uri": "https://localhost:8080/"
        },
        "id": "PrKYbae_YnZX",
        "outputId": "12f193c2-1a4c-4d17-e695-159ac2815392"
      },
      "outputs": [
        {
          "output_type": "stream",
          "name": "stdout",
          "text": [
            "(716, 100)\n",
            "(716,)\n"
          ]
        },
        {
          "output_type": "execute_result",
          "data": {
            "text/plain": [
              "(None, None)"
            ]
          },
          "metadata": {},
          "execution_count": 22
        }
      ],
      "source": [
        "print(X_train.shape), print(y_train.shape)"
      ]
    },
    {
      "cell_type": "code",
      "execution_count": 23,
      "metadata": {
        "colab": {
          "base_uri": "https://localhost:8080/"
        },
        "id": "5LUGJjsMYnZX",
        "outputId": "56935ca0-a592-4b43-bd28-7c5b33df0a0f"
      },
      "outputs": [
        {
          "output_type": "stream",
          "name": "stdout",
          "text": [
            "(339, 100)\n",
            "(339,)\n"
          ]
        },
        {
          "output_type": "execute_result",
          "data": {
            "text/plain": [
              "(None, None)"
            ]
          },
          "metadata": {},
          "execution_count": 23
        }
      ],
      "source": [
        "print(X_test.shape), print(ytest.shape)"
      ]
    },
    {
      "cell_type": "code",
      "execution_count": 24,
      "metadata": {
        "id": "fW1QiRDmYnZY"
      },
      "outputs": [],
      "source": [
        "# reshape input to be [samples, time steps, features] which is required for LSTM\n",
        "X_train =X_train.reshape(X_train.shape[0],X_train.shape[1] , 1)\n",
        "X_test = X_test.reshape(X_test.shape[0],X_test.shape[1] , 1)"
      ]
    },
    {
      "cell_type": "code",
      "execution_count": 25,
      "metadata": {
        "id": "nSu2YB9vYnZY"
      },
      "outputs": [],
      "source": [
        "### Create the Stacked LSTM model\n",
        "from tensorflow.keras.models import Sequential\n",
        "from tensorflow.keras.layers import Dense\n",
        "from tensorflow.keras.layers import LSTM"
      ]
    },
    {
      "cell_type": "code",
      "execution_count": 26,
      "metadata": {
        "id": "vAIUq61sYnZY"
      },
      "outputs": [],
      "source": [
        "model=Sequential()\n",
        "model.add(LSTM(50,return_sequences=True,input_shape=(100,1)))\n",
        "model.add(LSTM(50,return_sequences=True))\n",
        "model.add(LSTM(50))\n",
        "model.add(Dense(1))\n",
        "model.compile(loss='mean_squared_error',optimizer='adam')\n"
      ]
    },
    {
      "cell_type": "code",
      "execution_count": 27,
      "metadata": {
        "colab": {
          "base_uri": "https://localhost:8080/"
        },
        "id": "chCFUELCYnZZ",
        "outputId": "3ea6aefe-50e3-4549-bfb3-6daa882fd1db"
      },
      "outputs": [
        {
          "output_type": "stream",
          "name": "stdout",
          "text": [
            "Model: \"sequential\"\n",
            "_________________________________________________________________\n",
            " Layer (type)                Output Shape              Param #   \n",
            "=================================================================\n",
            " lstm (LSTM)                 (None, 100, 50)           10400     \n",
            "                                                                 \n",
            " lstm_1 (LSTM)               (None, 100, 50)           20200     \n",
            "                                                                 \n",
            " lstm_2 (LSTM)               (None, 50)                20200     \n",
            "                                                                 \n",
            " dense (Dense)               (None, 1)                 51        \n",
            "                                                                 \n",
            "=================================================================\n",
            "Total params: 50851 (198.64 KB)\n",
            "Trainable params: 50851 (198.64 KB)\n",
            "Non-trainable params: 0 (0.00 Byte)\n",
            "_________________________________________________________________\n"
          ]
        }
      ],
      "source": [
        "model.summary()"
      ]
    },
    {
      "cell_type": "code",
      "execution_count": 28,
      "metadata": {
        "colab": {
          "base_uri": "https://localhost:8080/"
        },
        "id": "ohILch7EYnZZ",
        "outputId": "a71aae83-8e09-4b48-920e-a6cfc671e7be"
      },
      "outputs": [
        {
          "output_type": "stream",
          "name": "stdout",
          "text": [
            "Model: \"sequential\"\n",
            "_________________________________________________________________\n",
            " Layer (type)                Output Shape              Param #   \n",
            "=================================================================\n",
            " lstm (LSTM)                 (None, 100, 50)           10400     \n",
            "                                                                 \n",
            " lstm_1 (LSTM)               (None, 100, 50)           20200     \n",
            "                                                                 \n",
            " lstm_2 (LSTM)               (None, 50)                20200     \n",
            "                                                                 \n",
            " dense (Dense)               (None, 1)                 51        \n",
            "                                                                 \n",
            "=================================================================\n",
            "Total params: 50851 (198.64 KB)\n",
            "Trainable params: 50851 (198.64 KB)\n",
            "Non-trainable params: 0 (0.00 Byte)\n",
            "_________________________________________________________________\n"
          ]
        }
      ],
      "source": [
        "model.summary()"
      ]
    },
    {
      "cell_type": "code",
      "execution_count": 28,
      "metadata": {
        "id": "pAQ_LbcyYnZZ"
      },
      "outputs": [],
      "source": []
    },
    {
      "cell_type": "code",
      "execution_count": 29,
      "metadata": {
        "colab": {
          "base_uri": "https://localhost:8080/"
        },
        "id": "gzHu2UitYnZZ",
        "outputId": "612f5fa7-e477-4108-e09a-961e87e58dd5"
      },
      "outputs": [
        {
          "output_type": "stream",
          "name": "stdout",
          "text": [
            "Epoch 1/100\n",
            "12/12 [==============================] - 11s 297ms/step - loss: 0.0402 - val_loss: 0.0010\n",
            "Epoch 2/100\n",
            "12/12 [==============================] - 2s 181ms/step - loss: 0.0120 - val_loss: 0.0020\n",
            "Epoch 3/100\n",
            "12/12 [==============================] - 2s 185ms/step - loss: 0.0121 - val_loss: 3.4068e-04\n",
            "Epoch 4/100\n",
            "12/12 [==============================] - 3s 302ms/step - loss: 0.0100 - val_loss: 3.5261e-04\n",
            "Epoch 5/100\n",
            "12/12 [==============================] - 3s 226ms/step - loss: 0.0087 - val_loss: 0.0012\n",
            "Epoch 6/100\n",
            "12/12 [==============================] - 2s 182ms/step - loss: 0.0085 - val_loss: 2.9130e-04\n",
            "Epoch 7/100\n",
            "12/12 [==============================] - 2s 183ms/step - loss: 0.0078 - val_loss: 2.3777e-04\n",
            "Epoch 8/100\n",
            "12/12 [==============================] - 2s 185ms/step - loss: 0.0069 - val_loss: 3.5722e-04\n",
            "Epoch 9/100\n",
            "12/12 [==============================] - 2s 183ms/step - loss: 0.0062 - val_loss: 6.0440e-04\n",
            "Epoch 10/100\n",
            "12/12 [==============================] - 4s 295ms/step - loss: 0.0054 - val_loss: 4.5615e-04\n",
            "Epoch 11/100\n",
            "12/12 [==============================] - 2s 189ms/step - loss: 0.0051 - val_loss: 5.6324e-04\n",
            "Epoch 12/100\n",
            "12/12 [==============================] - 2s 183ms/step - loss: 0.0061 - val_loss: 2.0656e-04\n",
            "Epoch 13/100\n",
            "12/12 [==============================] - 2s 186ms/step - loss: 0.0055 - val_loss: 5.0937e-04\n",
            "Epoch 14/100\n",
            "12/12 [==============================] - 2s 185ms/step - loss: 0.0051 - val_loss: 2.4997e-04\n",
            "Epoch 15/100\n",
            "12/12 [==============================] - 3s 244ms/step - loss: 0.0036 - val_loss: 3.6731e-04\n",
            "Epoch 16/100\n",
            "12/12 [==============================] - 3s 254ms/step - loss: 0.0035 - val_loss: 2.0011e-04\n",
            "Epoch 17/100\n",
            "12/12 [==============================] - 2s 185ms/step - loss: 0.0055 - val_loss: 4.2953e-04\n",
            "Epoch 18/100\n",
            "12/12 [==============================] - 2s 184ms/step - loss: 0.0035 - val_loss: 8.1490e-04\n",
            "Epoch 19/100\n",
            "12/12 [==============================] - 2s 188ms/step - loss: 0.0035 - val_loss: 2.2721e-04\n",
            "Epoch 20/100\n",
            "12/12 [==============================] - 2s 183ms/step - loss: 0.0026 - val_loss: 2.2499e-04\n",
            "Epoch 21/100\n",
            "12/12 [==============================] - 3s 300ms/step - loss: 0.0024 - val_loss: 2.5301e-04\n",
            "Epoch 22/100\n",
            "12/12 [==============================] - 2s 194ms/step - loss: 0.0023 - val_loss: 2.3531e-04\n",
            "Epoch 23/100\n",
            "12/12 [==============================] - 2s 183ms/step - loss: 0.0023 - val_loss: 2.3503e-04\n",
            "Epoch 24/100\n",
            "12/12 [==============================] - 2s 182ms/step - loss: 0.0054 - val_loss: 2.7180e-04\n",
            "Epoch 25/100\n",
            "12/12 [==============================] - 2s 184ms/step - loss: 0.0050 - val_loss: 3.1584e-04\n",
            "Epoch 26/100\n",
            "12/12 [==============================] - 3s 226ms/step - loss: 0.0041 - val_loss: 2.0530e-04\n",
            "Epoch 27/100\n",
            "12/12 [==============================] - 3s 267ms/step - loss: 0.0044 - val_loss: 1.7981e-04\n",
            "Epoch 28/100\n",
            "12/12 [==============================] - 2s 179ms/step - loss: 0.0037 - val_loss: 5.1567e-04\n",
            "Epoch 29/100\n",
            "12/12 [==============================] - 2s 183ms/step - loss: 0.0045 - val_loss: 2.4641e-04\n",
            "Epoch 30/100\n",
            "12/12 [==============================] - 2s 187ms/step - loss: 0.0036 - val_loss: 4.8167e-04\n",
            "Epoch 31/100\n",
            "12/12 [==============================] - 2s 183ms/step - loss: 0.0028 - val_loss: 1.9617e-04\n",
            "Epoch 32/100\n",
            "12/12 [==============================] - 3s 280ms/step - loss: 0.0024 - val_loss: 2.6954e-04\n",
            "Epoch 33/100\n",
            "12/12 [==============================] - 3s 206ms/step - loss: 0.0034 - val_loss: 4.2147e-04\n",
            "Epoch 34/100\n",
            "12/12 [==============================] - 2s 183ms/step - loss: 0.0040 - val_loss: 2.0944e-04\n",
            "Epoch 35/100\n",
            "12/12 [==============================] - 2s 183ms/step - loss: 0.0031 - val_loss: 1.9492e-04\n",
            "Epoch 36/100\n",
            "12/12 [==============================] - 2s 184ms/step - loss: 0.0029 - val_loss: 1.8242e-04\n",
            "Epoch 37/100\n",
            "12/12 [==============================] - 3s 219ms/step - loss: 0.0026 - val_loss: 1.6710e-04\n",
            "Epoch 38/100\n",
            "12/12 [==============================] - 3s 276ms/step - loss: 0.0025 - val_loss: 1.8166e-04\n",
            "Epoch 39/100\n",
            "12/12 [==============================] - 2s 185ms/step - loss: 0.0023 - val_loss: 3.1825e-04\n",
            "Epoch 40/100\n",
            "12/12 [==============================] - 2s 189ms/step - loss: 0.0034 - val_loss: 1.7909e-04\n",
            "Epoch 41/100\n",
            "12/12 [==============================] - 2s 186ms/step - loss: 0.0023 - val_loss: 1.6841e-04\n",
            "Epoch 42/100\n",
            "12/12 [==============================] - 2s 184ms/step - loss: 0.0020 - val_loss: 4.2298e-04\n",
            "Epoch 43/100\n",
            "12/12 [==============================] - 3s 259ms/step - loss: 0.0023 - val_loss: 1.7215e-04\n",
            "Epoch 44/100\n",
            "12/12 [==============================] - 3s 235ms/step - loss: 0.0019 - val_loss: 2.1007e-04\n",
            "Epoch 45/100\n",
            "12/12 [==============================] - 2s 183ms/step - loss: 0.0076 - val_loss: 9.6617e-04\n",
            "Epoch 46/100\n",
            "12/12 [==============================] - 2s 186ms/step - loss: 0.0077 - val_loss: 2.3802e-04\n",
            "Epoch 47/100\n",
            "12/12 [==============================] - 2s 186ms/step - loss: 0.0068 - val_loss: 7.9427e-04\n",
            "Epoch 48/100\n",
            "12/12 [==============================] - 2s 182ms/step - loss: 0.0048 - val_loss: 5.3830e-04\n",
            "Epoch 49/100\n",
            "12/12 [==============================] - 3s 295ms/step - loss: 0.0042 - val_loss: 2.2304e-04\n",
            "Epoch 50/100\n",
            "12/12 [==============================] - 2s 189ms/step - loss: 0.0035 - val_loss: 1.8961e-04\n",
            "Epoch 51/100\n",
            "12/12 [==============================] - 2s 184ms/step - loss: 0.0032 - val_loss: 2.5223e-04\n",
            "Epoch 52/100\n",
            "12/12 [==============================] - 2s 186ms/step - loss: 0.0030 - val_loss: 1.6666e-04\n",
            "Epoch 53/100\n",
            "12/12 [==============================] - 2s 186ms/step - loss: 0.0030 - val_loss: 3.6360e-04\n",
            "Epoch 54/100\n",
            "12/12 [==============================] - 3s 224ms/step - loss: 0.0036 - val_loss: 1.5572e-04\n",
            "Epoch 55/100\n",
            "12/12 [==============================] - 3s 265ms/step - loss: 0.0028 - val_loss: 2.9652e-04\n",
            "Epoch 56/100\n",
            "12/12 [==============================] - 2s 187ms/step - loss: 0.0026 - val_loss: 1.6120e-04\n",
            "Epoch 57/100\n",
            "12/12 [==============================] - 2s 183ms/step - loss: 0.0025 - val_loss: 5.1719e-04\n",
            "Epoch 58/100\n",
            "12/12 [==============================] - 2s 184ms/step - loss: 0.0028 - val_loss: 3.0210e-04\n",
            "Epoch 59/100\n",
            "12/12 [==============================] - 2s 187ms/step - loss: 0.0022 - val_loss: 1.5547e-04\n",
            "Epoch 60/100\n",
            "12/12 [==============================] - 3s 290ms/step - loss: 0.0020 - val_loss: 2.0423e-04\n",
            "Epoch 61/100\n",
            "12/12 [==============================] - 3s 205ms/step - loss: 0.0021 - val_loss: 1.6252e-04\n",
            "Epoch 62/100\n",
            "12/12 [==============================] - 2s 186ms/step - loss: 0.0019 - val_loss: 1.7272e-04\n",
            "Epoch 63/100\n",
            "12/12 [==============================] - 2s 184ms/step - loss: 0.0019 - val_loss: 1.9436e-04\n",
            "Epoch 64/100\n",
            "12/12 [==============================] - 2s 188ms/step - loss: 0.0020 - val_loss: 1.7136e-04\n",
            "Epoch 65/100\n",
            "12/12 [==============================] - 2s 212ms/step - loss: 0.0017 - val_loss: 1.7890e-04\n",
            "Epoch 66/100\n",
            "12/12 [==============================] - 3s 283ms/step - loss: 0.0016 - val_loss: 1.5814e-04\n",
            "Epoch 67/100\n",
            "12/12 [==============================] - 2s 185ms/step - loss: 0.0015 - val_loss: 1.9271e-04\n",
            "Epoch 68/100\n",
            "12/12 [==============================] - 2s 186ms/step - loss: 0.0015 - val_loss: 1.7248e-04\n",
            "Epoch 69/100\n",
            "12/12 [==============================] - 2s 187ms/step - loss: 0.0016 - val_loss: 1.9394e-04\n",
            "Epoch 70/100\n",
            "12/12 [==============================] - 2s 183ms/step - loss: 0.0016 - val_loss: 1.5847e-04\n",
            "Epoch 71/100\n",
            "12/12 [==============================] - 3s 265ms/step - loss: 0.0015 - val_loss: 1.8710e-04\n",
            "Epoch 72/100\n",
            "12/12 [==============================] - 3s 224ms/step - loss: 0.0021 - val_loss: 1.9313e-04\n",
            "Epoch 73/100\n",
            "12/12 [==============================] - 2s 186ms/step - loss: 0.0015 - val_loss: 1.6054e-04\n",
            "Epoch 74/100\n",
            "12/12 [==============================] - 2s 188ms/step - loss: 0.0015 - val_loss: 1.7156e-04\n",
            "Epoch 75/100\n",
            "12/12 [==============================] - 2s 186ms/step - loss: 0.0014 - val_loss: 1.9554e-04\n",
            "Epoch 76/100\n",
            "12/12 [==============================] - 3s 215ms/step - loss: 0.0013 - val_loss: 1.8025e-04\n",
            "Epoch 77/100\n",
            "12/12 [==============================] - 3s 286ms/step - loss: 0.0012 - val_loss: 1.7041e-04\n",
            "Epoch 78/100\n",
            "12/12 [==============================] - 2s 188ms/step - loss: 0.0012 - val_loss: 1.6637e-04\n",
            "Epoch 79/100\n",
            "12/12 [==============================] - 2s 186ms/step - loss: 0.0014 - val_loss: 1.6907e-04\n",
            "Epoch 80/100\n",
            "12/12 [==============================] - 2s 184ms/step - loss: 0.0013 - val_loss: 1.9820e-04\n",
            "Epoch 81/100\n",
            "12/12 [==============================] - 2s 184ms/step - loss: 0.0016 - val_loss: 2.3507e-04\n",
            "Epoch 82/100\n",
            "12/12 [==============================] - 3s 270ms/step - loss: 0.0013 - val_loss: 1.5836e-04\n",
            "Epoch 83/100\n",
            "12/12 [==============================] - 3s 225ms/step - loss: 0.0011 - val_loss: 1.5850e-04\n",
            "Epoch 84/100\n",
            "12/12 [==============================] - 2s 184ms/step - loss: 0.0011 - val_loss: 1.6451e-04\n",
            "Epoch 85/100\n",
            "12/12 [==============================] - 2s 186ms/step - loss: 0.0014 - val_loss: 1.6383e-04\n",
            "Epoch 86/100\n",
            "12/12 [==============================] - 2s 188ms/step - loss: 0.0011 - val_loss: 2.2959e-04\n",
            "Epoch 87/100\n",
            "12/12 [==============================] - 3s 218ms/step - loss: 0.0011 - val_loss: 2.0508e-04\n",
            "Epoch 88/100\n",
            "12/12 [==============================] - 3s 281ms/step - loss: 0.0011 - val_loss: 1.6925e-04\n",
            "Epoch 89/100\n",
            "12/12 [==============================] - 2s 186ms/step - loss: 0.0013 - val_loss: 1.6246e-04\n",
            "Epoch 90/100\n",
            "12/12 [==============================] - 2s 187ms/step - loss: 0.0014 - val_loss: 1.5852e-04\n",
            "Epoch 91/100\n",
            "12/12 [==============================] - 2s 183ms/step - loss: 0.0014 - val_loss: 1.5760e-04\n",
            "Epoch 92/100\n",
            "12/12 [==============================] - 2s 187ms/step - loss: 0.0015 - val_loss: 1.7686e-04\n",
            "Epoch 93/100\n",
            "12/12 [==============================] - 3s 280ms/step - loss: 0.0013 - val_loss: 1.7511e-04\n",
            "Epoch 94/100\n",
            "12/12 [==============================] - 3s 218ms/step - loss: 0.0014 - val_loss: 2.6467e-04\n",
            "Epoch 95/100\n",
            "12/12 [==============================] - 2s 188ms/step - loss: 0.0039 - val_loss: 2.2226e-04\n",
            "Epoch 96/100\n",
            "12/12 [==============================] - 2s 186ms/step - loss: 0.0040 - val_loss: 2.7708e-04\n",
            "Epoch 97/100\n",
            "12/12 [==============================] - 2s 187ms/step - loss: 0.0025 - val_loss: 1.9626e-04\n",
            "Epoch 98/100\n",
            "12/12 [==============================] - 2s 204ms/step - loss: 0.0020 - val_loss: 2.6970e-04\n",
            "Epoch 99/100\n",
            "12/12 [==============================] - 4s 311ms/step - loss: 0.0016 - val_loss: 1.7698e-04\n",
            "Epoch 100/100\n",
            "12/12 [==============================] - 2s 185ms/step - loss: 0.0015 - val_loss: 1.5715e-04\n"
          ]
        },
        {
          "output_type": "execute_result",
          "data": {
            "text/plain": [
              "<keras.src.callbacks.History at 0x793814a7f0d0>"
            ]
          },
          "metadata": {},
          "execution_count": 29
        }
      ],
      "source": [
        "model.fit(X_train,y_train,validation_data=(X_test,ytest),epochs=100,batch_size=64,verbose=1)"
      ]
    },
    {
      "cell_type": "code",
      "execution_count": 30,
      "metadata": {
        "id": "svMuePdjYnZa"
      },
      "outputs": [],
      "source": [
        "import tensorflow as tf"
      ]
    },
    {
      "cell_type": "code",
      "execution_count": 31,
      "metadata": {
        "colab": {
          "base_uri": "https://localhost:8080/",
          "height": 36
        },
        "id": "dhyTv_1zYnZa",
        "outputId": "f0bcd31d-db55-4c6f-ea87-2aca9296ceaa"
      },
      "outputs": [
        {
          "output_type": "execute_result",
          "data": {
            "text/plain": [
              "'2.15.0'"
            ],
            "application/vnd.google.colaboratory.intrinsic+json": {
              "type": "string"
            }
          },
          "metadata": {},
          "execution_count": 31
        }
      ],
      "source": [
        "tf.__version__"
      ]
    },
    {
      "cell_type": "code",
      "execution_count": 32,
      "metadata": {
        "colab": {
          "base_uri": "https://localhost:8080/"
        },
        "id": "QqkUybbPYnZa",
        "outputId": "ffd87034-ba64-433a-d7bc-7cd201cf9a1f"
      },
      "outputs": [
        {
          "output_type": "stream",
          "name": "stdout",
          "text": [
            "23/23 [==============================] - 2s 37ms/step\n",
            "11/11 [==============================] - 0s 38ms/step\n"
          ]
        }
      ],
      "source": [
        "### Lets Do the prediction and check performance metrics\n",
        "train_predict=model.predict(X_train)\n",
        "test_predict=model.predict(X_test)"
      ]
    },
    {
      "cell_type": "code",
      "execution_count": 33,
      "metadata": {
        "id": "khjUda8rYnZa"
      },
      "outputs": [],
      "source": [
        "##Transformback to original form\n",
        "train_predict=scaler.inverse_transform(train_predict)\n",
        "test_predict=scaler.inverse_transform(test_predict)"
      ]
    },
    {
      "cell_type": "code",
      "execution_count": 34,
      "metadata": {
        "colab": {
          "base_uri": "https://localhost:8080/"
        },
        "id": "PqA0FRuwYnZb",
        "outputId": "9a13b79d-6a18-443d-c777-539b3612c00c"
      },
      "outputs": [
        {
          "output_type": "execute_result",
          "data": {
            "text/plain": [
              "220.77476647819697"
            ]
          },
          "metadata": {},
          "execution_count": 34
        }
      ],
      "source": [
        "### Calculate RMSE performance metrics\n",
        "import math\n",
        "from sklearn.metrics import mean_squared_error\n",
        "math.sqrt(mean_squared_error(y_train,train_predict))"
      ]
    },
    {
      "cell_type": "code",
      "execution_count": 35,
      "metadata": {
        "colab": {
          "base_uri": "https://localhost:8080/"
        },
        "id": "0m9xbpIHYnZb",
        "outputId": "5dce265e-bc17-4b13-b300-ec92d29a36f2"
      },
      "outputs": [
        {
          "output_type": "execute_result",
          "data": {
            "text/plain": [
              "166.70939880517943"
            ]
          },
          "metadata": {},
          "execution_count": 35
        }
      ],
      "source": [
        "### Test Data RMSE\n",
        "math.sqrt(mean_squared_error(ytest,test_predict))"
      ]
    },
    {
      "cell_type": "code",
      "execution_count": 36,
      "metadata": {
        "colab": {
          "base_uri": "https://localhost:8080/",
          "height": 430
        },
        "id": "q6vfr__0YnZb",
        "outputId": "3c365628-1199-42b6-fb0d-7112fed5bd9b"
      },
      "outputs": [
        {
          "output_type": "display_data",
          "data": {
            "text/plain": [
              "<Figure size 640x480 with 1 Axes>"
            ],
            "image/png": "[encoded data removed]"
          },
          "metadata": {}
        }
      ],
      "source": [
        "### Plotting\n",
        "# shift train predictions for plotting\n",
        "look_back=100\n",
        "trainPredictPlot = numpy.empty_like(df1)\n",
        "trainPredictPlot[:, :] = np.nan\n",
        "trainPredictPlot[look_back:len(train_predict)+look_back, :] = train_predict\n",
        "# shift test predictions for plotting\n",
        "testPredictPlot = numpy.empty_like(df1)\n",
        "testPredictPlot[:, :] = numpy.nan\n",
        "testPredictPlot[len(train_predict)+(look_back*2)+1:len(df1)-1, :] = test_predict\n",
        "# plot baseline and predictions\n",
        "plt.plot(scaler.inverse_transform(df1))\n",
        "plt.plot(trainPredictPlot)\n",
        "plt.plot(testPredictPlot)\n",
        "plt.show()"
      ]
    },
    {
      "cell_type": "code",
      "execution_count": 37,
      "metadata": {
        "colab": {
          "base_uri": "https://localhost:8080/"
        },
        "id": "EJ34YhMBYnZb",
        "outputId": "9fb546c2-1fca-4161-863a-e964448676eb"
      },
      "outputs": [
        {
          "output_type": "execute_result",
          "data": {
            "text/plain": [
              "440"
            ]
          },
          "metadata": {},
          "execution_count": 37
        }
      ],
      "source": [
        "len(test_data)"
      ]
    },
    {
      "cell_type": "code",
      "execution_count": 38,
      "metadata": {
        "colab": {
          "base_uri": "https://localhost:8080/"
        },
        "id": "3e0UgkZ_YnZc",
        "outputId": "708c514d-fa31-4242-8573-59df70cb10b9"
      },
      "outputs": [
        {
          "output_type": "execute_result",
          "data": {
            "text/plain": [
              "(1, 99)"
            ]
          },
          "metadata": {},
          "execution_count": 38
        }
      ],
      "source": [
        "x_input=test_data[341:].reshape(1,-1)\n",
        "x_input.shape\n"
      ]
    },
    {
      "cell_type": "code",
      "execution_count": 38,
      "metadata": {
        "id": "f-dz_8XnYnZd"
      },
      "outputs": [],
      "source": []
    },
    {
      "cell_type": "code",
      "execution_count": 38,
      "metadata": {
        "id": "40wxxt4DYnZd"
      },
      "outputs": [],
      "source": []
    },
    {
      "cell_type": "code",
      "execution_count": 39,
      "metadata": {
        "id": "Pzez_boUYnZd"
      },
      "outputs": [],
      "source": [
        "temp_input=list(x_input)\n",
        "temp_input=temp_input[0].tolist()"
      ]
    },
    {
      "cell_type": "code",
      "execution_count": 40,
      "metadata": {
        "colab": {
          "base_uri": "https://localhost:8080/"
        },
        "id": "2bejNl3MYnZd",
        "outputId": "4951c626-641f-4004-c76b-8a3a5c9e3c31"
      },
      "outputs": [
        {
          "output_type": "execute_result",
          "data": {
            "text/plain": [
              "[0.1882279273638071,\n",
              " 0.18036318096430803,\n",
              " 0.18274264245460237,\n",
              " 0.1787100814026299,\n",
              " 0.17815904821540385,\n",
              " 0.17770820288040068,\n",
              " 0.18189104571070758,\n",
              " 0.1768566061365059,\n",
              " 0.1746524733876017,\n",
              " 0.16821540388227924,\n",
              " 0.16944270507200998,\n",
              " 0.17282404508453347,\n",
              " 0.17630557294927984,\n",
              " 0.18604884157795865,\n",
              " 0.17417658108954281,\n",
              " 0.17976205385097055,\n",
              " 0.18371947401377575,\n",
              " 0.1935629304946775,\n",
              " 0.20240450845335,\n",
              " 0.20295554164057605,\n",
              " 0.20693800876643703,\n",
              " 0.20753913587977452,\n",
              " 0.19053224796493418,\n",
              " 0.1771321227301189,\n",
              " 0.17868503443957418,\n",
              " 0.18164057608015027,\n",
              " 0.17397620538509706,\n",
              " 0.16874139010644956,\n",
              " 0.17257357545397617,\n",
              " 0.17074514715090788,\n",
              " 0.17815904821540385,\n",
              " 0.18091421415153408,\n",
              " 0.17194740137758296,\n",
              " 0.16804007514088914,\n",
              " 0.17019411396368184,\n",
              " 0.173425172197871,\n",
              " 0.16310582341891044,\n",
              " 0.15927363807138384,\n",
              " 0.15992485911083276,\n",
              " 0.16122730118973072,\n",
              " 0.16758922980588598,\n",
              " 0.16420788979336254,\n",
              " 0.1673638071383844,\n",
              " 0.17049467752035058,\n",
              " 0.17695679398872882,\n",
              " 0.18071383844708827,\n",
              " 0.17921102066374445,\n",
              " 0.18274264245460237,\n",
              " 0.1850219160926737,\n",
              " 0.18036318096430803,\n",
              " 0.18003757044458357,\n",
              " 0.17610519724483403,\n",
              " 0.17282404508453347,\n",
              " 0.17187226048841575,\n",
              " 0.1654101440200375,\n",
              " 0.1657107075767063,\n",
              " 0.1668127739511584,\n",
              " 0.16095178459611764,\n",
              " 0.15040701314965554,\n",
              " 0.1537382592360676,\n",
              " 0.15892298058860355,\n",
              " 0.16012523481527863,\n",
              " 0.16814026299311202,\n",
              " 0.17715716969317463,\n",
              " 0.17485284909204757,\n",
              " 0.1813149655604257,\n",
              " 0.18780212899185966,\n",
              " 0.19048215403882274,\n",
              " 0.1892798998121477,\n",
              " 0.19927363807138382,\n",
              " 0.19526612398246712,\n",
              " 0.20187852222917968,\n",
              " 0.20330619912335623,\n",
              " 0.2075641828428303,\n",
              " 0.2075140889167188,\n",
              " 0.21192235441452717,\n",
              " 0.20989355040701307,\n",
              " 0.211571696931747,\n",
              " 0.20821540388227922,\n",
              " 0.2077645585472761,\n",
              " 0.2092924232936756,\n",
              " 0.20671258609893545,\n",
              " 0.20816530995616772,\n",
              " 0.2113963681903569,\n",
              " 0.20686286787726987,\n",
              " 0.21685660613650587,\n",
              " 0.21410144020037564,\n",
              " 0.21898559799624295,\n",
              " 0.22259236067626798,\n",
              " 0.21625547902316838,\n",
              " 0.22008766437069505,\n",
              " 0.2282279273638071,\n",
              " 0.22860363180964305,\n",
              " 0.2272510958046336,\n",
              " 0.22304320601127103,\n",
              " 0.22567313713212267,\n",
              " 0.2203882279273638,\n",
              " 0.22001252348152783,\n",
              " 0.21730745147150904]"
            ]
          },
          "metadata": {},
          "execution_count": 40
        }
      ],
      "source": [
        "temp_input"
      ]
    },
    {
      "cell_type": "code",
      "execution_count": 43,
      "metadata": {
        "colab": {
          "base_uri": "https://localhost:8080/"
        },
        "id": "MJBicSLpYnZd",
        "outputId": "46e74c10-f53b-411a-a095-ee9ecfe54719"
      },
      "outputs": [
        {
          "output_type": "stream",
          "name": "stdout",
          "text": [
            "[[0.22680851817131042], [0.22652557492256165], [0.22666679322719574], [0.22713863849639893], [0.22782213985919952], [0.22862541675567627], [0.22948980331420898], [0.23038247227668762], [0.2312871515750885], [0.23219650983810425], [0.2331083118915558], [0.2340223789215088], [0.2349396049976349], [0.235861137509346], [0.23678849637508392], [0.23772278428077698], [0.23866528272628784], [0.23961694538593292], [0.2405785322189331], [0.24155078828334808], [0.2425340861082077], [0.2435288280248642], [0.24453520774841309], [0.24555349349975586], [0.24658365547657013], [0.24762596189975739], [0.2486802339553833], [0.24974673986434937], [0.25082555413246155], [0.2519168257713318]]\n"
          ]
        }
      ],
      "source": [
        "lst_output = []\n",
        "n_steps = 100\n",
        "i = 0\n",
        "\n",
        "while i < 30:\n",
        "    if len(temp_input) >= n_steps:\n",
        "        x_input = np.array(temp_input[-n_steps:]).reshape((1, n_steps, 1))\n",
        "        yhat = model.predict(x_input, verbose=0)\n",
        "        temp_input.extend(yhat[0].tolist())\n",
        "        lst_output.extend(yhat.tolist())\n",
        "        i += 1\n",
        "    else:\n",
        "        x_input = np.array(temp_input).reshape((1, len(temp_input), 1))\n",
        "        yhat = model.predict(x_input, verbose=0)\n",
        "        temp_input.extend(yhat[0].tolist())\n",
        "        lst_output.extend(yhat.tolist())\n",
        "        i += 1\n",
        "\n",
        "print(lst_output)\n"
      ]
    },
    {
      "cell_type": "code",
      "execution_count": 44,
      "metadata": {
        "id": "kA7a4qNDYnZe"
      },
      "outputs": [],
      "source": [
        "day_new=np.arange(1,101)\n",
        "day_pred=np.arange(101,131)"
      ]
    },
    {
      "cell_type": "code",
      "execution_count": 45,
      "metadata": {
        "id": "dyRP-0k5YnZe"
      },
      "outputs": [],
      "source": [
        "import matplotlib.pyplot as plt"
      ]
    },
    {
      "cell_type": "code",
      "execution_count": 46,
      "metadata": {
        "colab": {
          "base_uri": "https://localhost:8080/"
        },
        "id": "6e4kB40DYnZe",
        "outputId": "f13dde93-1ecc-455e-d59c-0bdf10fa4532"
      },
      "outputs": [
        {
          "output_type": "execute_result",
          "data": {
            "text/plain": [
              "1257"
            ]
          },
          "metadata": {},
          "execution_count": 46
        }
      ],
      "source": [
        "len(df1)"
      ]
    },
    {
      "cell_type": "code",
      "execution_count": 49,
      "metadata": {
        "colab": {
          "base_uri": "https://localhost:8080/",
          "height": 472
        },
        "id": "cMEt5fIHYnZe",
        "outputId": "e6efae4a-54bc-47ef-9553-2cae320dfdc5"
      },
      "outputs": [
        {
          "output_type": "display_data",
          "data": {
            "text/plain": [
              "<Figure size 640x480 with 1 Axes>"
            ],
            "image/png": "[encoded data removed]"
          },
          "metadata": {}
        }
      ],
      "source": [
        "\n",
        "lst_output = np.array(lst_output)\n",
        "if len(lst_output) > len(day_pred):\n",
        "    lst_output = lst_output[:len(day_pred)]\n",
        "\n",
        "# Plotting the data\n",
        "plt.plot(day_new[:len(df1)-1158], scaler.inverse_transform(df1[1158:]))\n",
        "plt.plot(day_pred, scaler.inverse_transform(lst_output))\n",
        "\n",
        "plt.xlabel('Day')\n",
        "plt.ylabel('Value')\n",
        "plt.title('Prediction vs Actual')\n",
        "plt.legend(['Actual', 'Predicted'])\n",
        "plt.show()\n"
      ]
    },
    {
      "cell_type": "code",
      "execution_count": 50,
      "metadata": {
        "colab": {
          "base_uri": "https://localhost:8080/",
          "height": 448
        },
        "id": "cekKXMnYYnZe",
        "outputId": "ab7d07f2-0901-48e8-8d75-3b3ea49d4823"
      },
      "outputs": [
        {
          "output_type": "execute_result",
          "data": {
            "text/plain": [
              "[<matplotlib.lines.Line2D at 0x793814714400>]"
            ]
          },
          "metadata": {},
          "execution_count": 50
        },
        {
          "output_type": "display_data",
          "data": {
            "text/plain": [
              "<Figure size 640x480 with 1 Axes>"
            ],
            "image/png": "[encoded data removed]"
          },
          "metadata": {}
        }
      ],
      "source": [
        "df3=df1.tolist()\n",
        "df3.extend(lst_output)\n",
        "plt.plot(df3[1200:])"
      ]
    },
    {
      "cell_type": "code",
      "execution_count": 51,
      "metadata": {
        "id": "RR_0cVj4YnZf"
      },
      "outputs": [],
      "source": [
        "df3=scaler.inverse_transform(df3).tolist()"
      ]
    },
    {
      "cell_type": "code",
      "execution_count": 52,
      "metadata": {
        "colab": {
          "base_uri": "https://localhost:8080/",
          "height": 448
        },
        "id": "L9DxVGRMYnZf",
        "outputId": "62e88ced-b0b6-486f-965d-10d87138cb1a"
      },
      "outputs": [
        {
          "output_type": "execute_result",
          "data": {
            "text/plain": [
              "[<matplotlib.lines.Line2D at 0x79381476dfc0>]"
            ]
          },
          "metadata": {},
          "execution_count": 52
        },
        {
          "output_type": "display_data",
          "data": {
            "text/plain": [
              "<Figure size 640x480 with 1 Axes>"
            ],
            "image/png": "[encoded data removed]"
          },
          "metadata": {}
        }
      ],
      "source": [
        "plt.plot(df3)"
      ]
    }
  ],
  "metadata": {
    "kernelspec": {
      "display_name": "Python 3",
      "language": "python",
      "name": "python3"
    },
    "language_info": {
      "codemirror_mode": {
        "name": "ipython",
        "version": 3
      },
      "file_extension": ".py",
      "mimetype": "text/x-python",
      "name": "python",
      "nbconvert_exporter": "python",
      "pygments_lexer": "ipython3",
      "version": "3.6.9"
    },
    "colab": {
      "provenance": []
    }
  },
  "nbformat": 4,
  "nbformat_minor": 0
}